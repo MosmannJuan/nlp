{
 "cells": [
  {
   "cell_type": "markdown",
   "id": "4f131074-545c-4382-85e6-397d5f6e6275",
   "metadata": {},
   "source": [
    "# Training model with files from dataset"
   ]
  },
  {
   "cell_type": "code",
   "execution_count": 234,
   "id": "96bbcbc9-6b66-4d42-8654-f8d18d5a7e85",
   "metadata": {},
   "outputs": [
    {
     "name": "stdout",
     "output_type": "stream",
     "text": [
      "Leyendo el archivo Economía de experiencia (1).pdf\n",
      "Text: count of total pages :  4\n",
      "Leyendo el archivo Economía de experiencia.pdf\n",
      "Text: count of total pages :  4\n",
      "Leyendo el archivo K5071 - Matias David Choren - TP N6 Sistemas Emergentes (1).pdf\n",
      "Text: count of total pages :  3\n",
      "Leyendo el archivo K5071 - Matias David Choren - TP N6 Sistemas Emergentes.pdf\n",
      "Text: count of total pages :  3\n",
      "Leyendo el archivo K5071 - Matias David Choren - TP N°5 Rifkin (1).pdf\n",
      "Text: count of total pages :  4\n",
      "Leyendo el archivo K5071 - Matias David Choren - TP N°5 Rifkin.pdf\n",
      "Text: count of total pages :  4\n",
      "Leyendo el archivo K5071 - Matias David Choren - TP3 - Experience Economy.pdf\n",
      "Text: count of total pages :  7\n",
      "Leyendo el archivo MKT 2016 - Alan Szpigiel - TP4 (1).pdf\n",
      "Text: count of total pages :  4\n",
      "Leyendo el archivo MKT 2016 - Alan Szpigiel - TP4 (2).pdf\n",
      "Text: count of total pages :  4\n",
      "Leyendo el archivo MKT 2016 - Alan Szpigiel - TP4 (3).pdf\n",
      "Text: count of total pages :  4\n",
      "Leyendo el archivo MKT 2016 - Alan Szpigiel - TP4.pdf\n",
      "Text: count of total pages :  4\n",
      "Leyendo el archivo MKTG_TP0  - Definiciones Economia.pdf\n",
      "Text: count of total pages :  2\n",
      "Leyendo el archivo MKTG_TP2  - Suchecki - Marketing 4.0.pdf\n",
      "Text: count of total pages :  3\n",
      "Leyendo el archivo MKTG_TP4  - Suchecki - Comercio Electronico.pdf\n",
      "Text: count of total pages :  3\n",
      "Leyendo el archivo SCHMID TP N°3 Experience Economy (1).pdf\n",
      "Text: count of total pages :  7\n",
      "Leyendo el archivo SCHMID TP N°3 Experience Economy.pdf\n",
      "Text: count of total pages :  7\n",
      "Leyendo el archivo TP 1 - Wikinomics (1).pdf\n",
      "Text: count of total pages :  3\n",
      "Leyendo el archivo TP 1 - Wikinomics.pdf\n",
      "Text: count of total pages :  3\n",
      "Leyendo el archivo TP 2 - Marketing 4.0 - Phillip Kotler - Juan Cruz Reines.pdf\n",
      "Text: count of total pages :  4\n",
      "Leyendo el archivo TP 3 - The experience economy - Joseph PINE II y James GILMORE - Juan Cruz Reines.pdf\n",
      "Text: count of total pages :  4\n",
      "Leyendo el archivo TP 4 - E-commerce - Juan Cruz Reines.pdf\n",
      "Text: count of total pages :  3\n",
      "Leyendo el archivo TP N° 1 – WIKINOMICS - Melanie Blejter.pdf\n",
      "Text: count of total pages :  4\n",
      "Leyendo el archivo TP N° 2 – La larga cola - Melanie Blejter.pdf\n",
      "Text: count of total pages :  6\n",
      "Leyendo el archivo TP N° 3 – The Experience Economy - Melanie Blejter.pdf\n",
      "Text: count of total pages :  5\n",
      "Leyendo el archivo TP N° 4 – Difusión y Adopción TIC - Melanie Blejter.pdf\n",
      "Text: count of total pages :  6\n",
      "Leyendo el archivo TP N° 5 – La sociedad de costo marginal cero - Melanie Blejter.pdf\n",
      "Text: count of total pages :  4\n",
      "Leyendo el archivo TP N° 6 – Sistemas emergentes - Melanie Blejter.pdf\n",
      "Text: count of total pages :  3\n",
      "Leyendo el archivo TP N°02 (1).pdf\n",
      "Text: count of total pages :  5\n",
      "Leyendo el archivo TP N°02.pdf\n",
      "Text: count of total pages :  5\n",
      "Leyendo el archivo TP N°03 (1).pdf\n",
      "Text: count of total pages :  7\n",
      "Leyendo el archivo TP N°03.pdf\n",
      "Text: count of total pages :  7\n",
      "Leyendo el archivo TP N°04 (1).pdf\n",
      "Text: count of total pages :  7\n",
      "Leyendo el archivo TP N°04 (2).pdf\n",
      "Text: count of total pages :  7\n",
      "Leyendo el archivo TP N°04 (3).pdf\n",
      "Text: count of total pages :  7\n",
      "Leyendo el archivo TP N°04.pdf\n",
      "Text: count of total pages :  7\n",
      "Leyendo el archivo TP N°05.pdf\n",
      "Text: count of total pages :  5\n",
      "Leyendo el archivo TP N°1 - Wikinomics (1).pdf\n",
      "Text: count of total pages :  5\n",
      "Leyendo el archivo TP N°2 Larga Cola.pdf\n",
      "Text: count of total pages :  5\n",
      "Leyendo el archivo TP1 (1).pdf\n",
      "Text: count of total pages :  3\n",
      "Leyendo el archivo TP1 - La Larga Cola.pdf\n",
      "Text: count of total pages :  4\n",
      "Leyendo el archivo TP1-Wikinomics-RamirezFernando2017.pdf\n",
      "Text: count of total pages :  3\n",
      "Leyendo el archivo TP1-Wikinomics.pdf\n",
      "Text: count of total pages :  5\n",
      "Leyendo el archivo TP1.pdf\n",
      "Text: count of total pages :  3\n",
      "Leyendo el archivo TP1PabloPallocchi.pdf\n",
      "Text: count of total pages :  4\n",
      "Leyendo el archivo TP2 (1).pdf\n",
      "Text: count of total pages :  4\n",
      "Leyendo el archivo TP2-LaLargaCola-RamirezFernando2017.pdf\n",
      "Text: count of total pages :  3\n",
      "Leyendo el archivo TP2.pdf\n",
      "Text: count of total pages :  4\n",
      "Leyendo el archivo TP2PabloPallocchi (1).pdf\n",
      "Text: count of total pages :  4\n",
      "Leyendo el archivo TP2PabloPallocchi.pdf\n",
      "Text: count of total pages :  4\n",
      "Leyendo el archivo TP3 (1).pdf\n",
      "Text: count of total pages :  5\n",
      "Leyendo el archivo TP3 (2).pdf\n",
      "Text: count of total pages :  3\n",
      "Leyendo el archivo TP3 (3).pdf\n",
      "Text: count of total pages :  5\n",
      "Leyendo el archivo TP3.pdf\n",
      "Text: count of total pages :  4\n",
      "Leyendo el archivo TP3PabloPallocchi (1).pdf\n",
      "Text: count of total pages :  4\n",
      "Leyendo el archivo TP3PabloPallocchi.pdf\n",
      "Text: count of total pages :  4\n",
      "Leyendo el archivo TP4 (1).pdf\n",
      "Text: count of total pages :  7\n",
      "Leyendo el archivo TP4 (2).pdf\n",
      "Text: count of total pages :  7\n",
      "Leyendo el archivo TP4 (3).pdf\n",
      "Text: count of total pages :  4\n",
      "Leyendo el archivo TP4 (4).pdf\n",
      "Text: count of total pages :  3\n",
      "Leyendo el archivo TP4 (5).pdf\n",
      "Text: count of total pages :  7\n",
      "Leyendo el archivo TP4 (6).pdf\n",
      "Text: count of total pages :  3\n",
      "Leyendo el archivo TP4 (7).pdf\n",
      "Text: count of total pages :  4\n",
      "Leyendo el archivo TP4 - Difusión y adopción TIC - Ramirez Fernando 2017.pdf\n",
      "Text: count of total pages :  4\n",
      "Leyendo el archivo TP4.pdf\n",
      "Text: count of total pages :  3\n",
      "Leyendo el archivo TP4PabloPallocchi (1).pdf\n",
      "Text: count of total pages :  4\n",
      "Leyendo el archivo TP4PabloPallocchi.pdf\n",
      "Text: count of total pages :  4\n",
      "Leyendo el archivo TP5 (1).pdf\n",
      "Text: count of total pages :  2\n",
      "Leyendo el archivo TP5 (2).pdf\n",
      "Text: count of total pages :  6\n",
      "Leyendo el archivo TP5 (3).pdf\n",
      "Text: count of total pages :  6\n",
      "Leyendo el archivo TP5 (4).pdf\n",
      "Text: count of total pages :  2\n",
      "Leyendo el archivo TP5 (5).pdf\n",
      "Text: count of total pages :  4\n",
      "Leyendo el archivo TP5 (6).pdf\n",
      "Text: count of total pages :  4\n",
      "Leyendo el archivo TP5-Lasociedaddecostomarginalcero-RamirezFernando2017.pdf\n",
      "Text: count of total pages :  2\n",
      "Leyendo el archivo TP5.pdf\n",
      "Text: count of total pages :  3\n",
      "Leyendo el archivo TP6(1).pdf\n",
      "Text: count of total pages :  2\n",
      "Leyendo el archivo TP6-Sistemasemergentes-RamirezFernando2017.pdf\n",
      "Text: count of total pages :  2\n",
      "Leyendo el archivo TP6.pdf\n",
      "Text: count of total pages :  4\n",
      "Leyendo el archivo TP7 Dominio de la informacion - Juan Facundo Obregon (1).pdf\n",
      "Text: count of total pages :  9\n",
      "Leyendo el archivo TP7 Dominio de la informacion - Juan Facundo Obregon.pdf\n",
      "Text: count of total pages :  9\n",
      "Leyendo el archivo TPN°1Wikinomics.pdf\n",
      "Text: count of total pages :  5\n",
      "Leyendo el archivo TP_2_Weiss_Gonzalo.pdf\n",
      "Text: count of total pages :  5\n",
      "Leyendo el archivo TP_3_Weiss_Gonzalo (1).pdf\n",
      "Text: count of total pages :  6\n",
      "Leyendo el archivo TP_3_Weiss_Gonzalo.pdf\n",
      "Text: count of total pages :  6\n",
      "Leyendo el archivo TP_4_Weiss_Gonzalo (1).pdf\n",
      "Text: count of total pages :  5\n",
      "Leyendo el archivo TP_4_Weiss_Gonzalo.pdf\n",
      "Text: count of total pages :  5\n",
      "Leyendo el archivo TP_5_Weiss_Gonzalo.pdf\n",
      "Text: count of total pages :  4\n",
      "Leyendo el archivo TP_6_Weiss_Gonzalo.pdf\n",
      "Text: count of total pages :  3\n",
      "Leyendo el archivo UTN - MARKETING - SAS - TP5.pdf\n",
      "Text: count of total pages :  2\n",
      "Leyendo el archivo UTN - MARKETING - SAS - TP6.pdf\n",
      "Text: count of total pages :  2\n",
      "Leyendo el archivo UTN - Marketing - TP3 - Matias Sas (1).pdf\n",
      "Text: count of total pages :  3\n",
      "Leyendo el archivo UTN - Marketing - TP3 - Matias Sas.pdf\n",
      "Text: count of total pages :  3\n",
      "Leyendo el archivo UTN - MARKETING - TP4 (1).pdf\n",
      "Text: count of total pages :  3\n",
      "Leyendo el archivo UTN - MARKETING - TP4 (2).pdf\n",
      "Text: count of total pages :  3\n",
      "Leyendo el archivo UTN - MARKETING - TP4.pdf\n",
      "Text: count of total pages :  3\n",
      "Leyendo el archivo UTN - TP 1 - Matias Sas  (1).pdf\n",
      "Text: count of total pages :  3\n",
      "Leyendo el archivo UTN - TP 1 - Matias Sas .pdf\n",
      "Text: count of total pages :  3\n",
      "Leyendo el archivo UTN - TP 2 - Matias Sas  (1).pdf\n",
      "Text: count of total pages :  3\n",
      "Leyendo el archivo UTN - TP 2 - Matias Sas .pdf\n",
      "Text: count of total pages :  3\n",
      "Leyendo el archivo UTN Mktg 2016 - Modugno - TP1.pdf\n",
      "Text: count of total pages :  3\n",
      "Leyendo el archivo UTN Mktg 2016 - Modugno - TP3.pdf\n",
      "Text: count of total pages :  4\n",
      "Leyendo el archivo UTNMKT2016-MoraLeandro-TP4 (1).pdf\n",
      "Text: count of total pages :  8\n",
      "Leyendo el archivo UTNMKT2016-MoraLeandro-TP4.pdf\n",
      "Text: count of total pages :  8\n",
      "Leyendo el archivo UTNMktg2016-LeonPeralta-TP4.pdf\n",
      "Text: count of total pages :  5\n",
      "Leyendo el archivo UTNMktg2016-LeonPeralta-TP5.pdf\n",
      "Text: count of total pages :  3\n",
      "Leyendo el archivo UTNMktg2016-LeonPeralta-TP6.pdf\n",
      "Text: count of total pages :  2\n",
      "Leyendo el archivo UTNMktg2016-Maschwitz-TP1.pdf\n",
      "Text: count of total pages :  3\n",
      "Leyendo el archivo UTNMktg2016-Maschwitz-TP4 (1).pdf\n",
      "Text: count of total pages :  6\n",
      "Leyendo el archivo UTNMktg2016-Maschwitz-TP4.pdf\n",
      "Text: count of total pages :  6\n",
      "Leyendo el archivo UTNMktg2016-Maschwitz-TP6.pdf\n",
      "Text: count of total pages :  2\n",
      "Leyendo el archivo UTNMktg2016-Maschwitz-TP7.pdf\n",
      "Text: count of total pages :  5\n",
      "Leyendo el archivo Marketing - TP 0.docx\n",
      "Leyendo el archivo Marketing - TP 1.docx\n",
      "Leyendo el archivo Marketing - TP 2.docx\n",
      "Leyendo el archivo Marketing en Internet y Nueva Economía - TP0 (1).docx\n",
      "Leyendo el archivo Marketing en Internet y Nueva Economía - TP0.docx\n",
      "Leyendo el archivo MKT-TP N° 3 The experience Economy - Diego Noya.docx\n",
      "Leyendo el archivo Mkt_JourdanMartin_Tp1.docx\n",
      "Leyendo el archivo Preguntas TP Economía de experiencia - Gabriela Gonzalez (1).docx\n",
      "Leyendo el archivo Preguntas TP Economía de experiencia - Gabriela Gonzalez.docx\n",
      "Leyendo el archivo PREGUNTAS TP Machine, Platform, Crowd Gabriela Gonzalez.docx\n",
      "Leyendo el archivo PREGUNTAS TP Machine, Platform, Crowd.docx\n",
      "Leyendo el archivo Preguntas TP Marketing 4.0 - Kotler  Gabriela Gonzalez.docx\n",
      "Leyendo el archivo TP - 4 (1).docx\n",
      "Leyendo el archivo TP - 4.docx\n",
      "Leyendo el archivo TP 0 - Marketing.docx\n",
      "Leyendo el archivo TP 1 - Larga Cola - Campassi Rodrigo  (1).docx\n",
      "Leyendo el archivo TP 1 - Larga Cola - Campassi Rodrigo .docx\n",
      "Leyendo el archivo TP 1 - Marketing (1).docx\n",
      "Leyendo el archivo TP 1 - Marketing en Internet y Nueva Economía - Lucas Corbo.docx\n",
      "Leyendo el archivo TP 1 - Marketing.docx\n",
      "Leyendo el archivo TP 1 - Wikinomics.docx\n",
      "Leyendo el archivo TP 2 - Franco Zanette.docx\n",
      "Leyendo el archivo TP 2 - La economía Long Tail.docx\n",
      "Leyendo el archivo TP 2 - Long Tail.docx\n",
      "Leyendo el archivo TP 2 - Marketing en Internet y Nueva Economía - Lucas Corbo.docx\n",
      "Leyendo el archivo TP 2 - Marketing.docx\n",
      "Leyendo el archivo TP 2 Larga Cola - Ezequiel Ogando .docx\n",
      "Leyendo el archivo TP 2 LargaCola - Hernan Noriega .docx\n",
      "Leyendo el archivo TP 3 (1).docx\n",
      "Leyendo el archivo TP 3 - Economia de la experiencia.docx\n",
      "Leyendo el archivo TP 3 - Economía de Experiencia - Andrés Basso (1).docx\n",
      "Leyendo el archivo TP 3 - Economía de Experiencia - Andrés Basso.docx\n",
      "Leyendo el archivo TP 3 - Marketing en Internet y Nueva Economía - Lucas Corbo.docx\n",
      "Leyendo el archivo TP 3 - the experience economy.docx\n",
      "Leyendo el archivo TP 3 Experience Economy - Hernan Noriega  (1).docx\n",
      "Leyendo el archivo TP 3 Experience Economy - Hernan Noriega .docx\n",
      "Leyendo el archivo TP 3 Experience Economy.docx\n",
      "Leyendo el archivo TP 3 The experience economy (1).docx\n",
      "Leyendo el archivo TP 3 The experience economy (2).docx\n",
      "Leyendo el archivo TP 3 The experience economy (3).docx\n",
      "Leyendo el archivo TP 3 The experience economy.docx\n",
      "Leyendo el archivo TP 3-Franco Zanette.docx\n",
      "Leyendo el archivo TP 3.docx\n",
      "Leyendo el archivo TP 4 - Marketing en Internet y Nueva Economía - Lucas Corbo.docx\n",
      "Leyendo el archivo TP 4 - Wikinomía.docx\n",
      "Leyendo el archivo TP 4 Difusión y adopción - Hernan Noriega (1).docx\n",
      "Leyendo el archivo TP 4 Difusión y adopción - Hernan Noriega.docx\n",
      "Leyendo el archivo TP 4-Franco Zanette (1).docx\n",
      "Leyendo el archivo TP 4-Franco Zanette.docx\n",
      "Leyendo el archivo TP 5 (1).docx\n",
      "Leyendo el archivo TP 5 (2).docx\n",
      "Leyendo el archivo TP 5 - La sociedad de costo marginal cero.docx\n",
      "Leyendo el archivo TP 5 - Machine, Platform, Crowd.docx\n",
      "Leyendo el archivo TP 5 - Rodrigo Campassi - Plataformas y modelos de ebusiness.docx\n",
      "Leyendo el archivo Tp 5 Filannino marketing en internet.docx\n",
      "Leyendo el archivo TP 5 La sociedad de costo cero - Hernan Noriega (1).docx\n",
      "Leyendo el archivo TP 5 La sociedad de costo cero - Hernan Noriega.docx\n",
      "Leyendo el archivo TP 6 - Joan Manuel do Carmo.docx\n",
      "Leyendo el archivo TP 6 - Sistemas Emergentes (1).docx\n",
      "Leyendo el archivo TP 6 - Sistemas emergentes.docx\n",
      "Leyendo el archivo TP Larga Cola.docx\n",
      "Leyendo el archivo TP N° 3 – The Experience Economy - Hernán Kotler.docx\n",
      "Leyendo el archivo TP N° 4 – Difusión y Adopción TIC - Hernán Kotler.docx\n",
      "Leyendo el archivo TP N°3 - The experience economy - Pine II y Gilmore.docx\n",
      "Leyendo el archivo TP Rifkin (1).docx\n",
      "Leyendo el archivo TP Rifkin.docx\n",
      "Leyendo el archivo Tp0-MKT-Romano Karra.docx\n",
      "Leyendo el archivo TP1 (1).docx\n",
      "Leyendo el archivo TP1 - La Larga Cola - Marina Pross.docx\n",
      "Leyendo el archivo TP1 - Larga cola.docx\n",
      "Leyendo el archivo TP1-Franco Zanette (1).docx\n",
      "Leyendo el archivo TP1-Franco Zanette.docx\n",
      "Leyendo el archivo TP1-Wikinomics-RamirezFernando2017.docx\n",
      "Leyendo el archivo TP1.docx\n",
      "Leyendo el archivo TP2 - Ignacio Penacino - Marketing (1).docx\n",
      "Leyendo el archivo TP2 - Ignacio Penacino - Marketing.docx\n",
      "Leyendo el archivo TP2 - Long Tail- Joel Melamed.docx\n",
      "Leyendo el archivo TP2 - Marketing 4.0 - Kotler (1).docx\n",
      "Leyendo el archivo TP2 - Marketing 4.0 - Kotler (2).docx\n",
      "Leyendo el archivo TP2 - Marketing 4.0 - Kotler.docx\n",
      "Leyendo el archivo TP2 - Marketing 4.0 - Marina Pross (1).docx\n",
      "Leyendo el archivo TP2 - Marketing 4.0 - Marina Pross.docx\n",
      "Leyendo el archivo TP2 - Marketing 4.0.docx\n",
      "Leyendo el archivo Tp2 Filannino marketing en internet (1).docx\n",
      "Leyendo el archivo Tp2 Filannino marketing en internet (2).docx\n",
      "Leyendo el archivo Tp2 Filannino marketing en internet.docx\n",
      "Leyendo el archivo TP2 Marketing 4.0 Kotler - Koszczej, Agustín.docx\n",
      "Leyendo el archivo TP2 V1.docx\n",
      "Leyendo el archivo Tp2-MKT-Romano Karra.docx\n",
      "Leyendo el archivo TP3 - Economia de experiencia - Joel Melamed.docx\n",
      "Leyendo el archivo TP3 - Economia de la experiencia - Marina Pross.docx\n",
      "Leyendo el archivo TP3 - Economía de experiencia - Pine y Gilmore.docx\n",
      "Leyendo el archivo TP3 - Economía de experiencia.docx\n",
      "Leyendo el archivo TP3 - Ignacio Penacino - Marketing (1).docx\n",
      "Leyendo el archivo TP3 - Ignacio Penacino - Marketing.docx\n",
      "Leyendo el archivo TP3 - The experience economy - Pine II y Gilmore - Santiago Peralta (1).docx\n",
      "Leyendo el archivo TP3 - The experience economy - Pine II y Gilmore - Santiago Peralta.docx\n",
      "Leyendo el archivo TP3 - The Experience Economy.docx\n",
      "Leyendo el archivo Tp3 Filannino marketing en internet (1).docx\n",
      "Leyendo el archivo Tp3 Filannino marketing en internet (2).docx\n",
      "Leyendo el archivo Tp3 Filannino marketing en internet.docx\n",
      "Leyendo el archivo Tp3-MKT-Romano Karra.docx\n",
      "Leyendo el archivo TP4 - Adopcion TIC - Joel Melamed.docx\n",
      "Leyendo el archivo TP4 - Adopcion.docx\n",
      "Leyendo el archivo TP4 - Comercio Electronico - Marina Pross.docx\n",
      "Leyendo el archivo TP4 - Comercio electronico.docx\n",
      "Leyendo el archivo TP4 - ecommerce.docx\n",
      "Leyendo el archivo TP4 Adopcion (1).docx\n",
      "Leyendo el archivo TP4 Adopcion (2).docx\n",
      "Leyendo el archivo TP4 Adopcion.docx\n",
      "Leyendo el archivo Tp4 Filannino marketing en internet (1).docx\n",
      "Leyendo el archivo Tp4 Filannino marketing en internet.docx\n",
      "Leyendo el archivo TP4-Gariglio.docx\n",
      "Leyendo el archivo TP5 (1).docx\n",
      "Leyendo el archivo TP5 - La sociedad de MG Cero - Rifkin - Santiago Peralta (1).docx\n",
      "Leyendo el archivo TP5 - La sociedad de MG Cero - Rifkin - Santiago Peralta.docx\n",
      "Leyendo el archivo TP5 - La sociedad del costo marginal 0.docx\n",
      "Leyendo el archivo TP5 - Machine, Platform, Cloud - Marina Pross.docx\n",
      "Leyendo el archivo TP5 - Plataformas.docx\n",
      "Leyendo el archivo TP5 - Rifkin.docx\n",
      "Leyendo el archivo TP5-Franco Zanette.docx.docx\n",
      "Leyendo el archivo TP5-Gariglio.docx\n",
      "Leyendo el archivo TP5.docx\n",
      "Leyendo el archivo TP6  - Sistemas emergentes - Joel Melamed (1).docx\n",
      "Leyendo el archivo TP6  - Sistemas emergentes - Joel Melamed.docx\n",
      "Leyendo el archivo TP6 (1).docx\n",
      "Leyendo el archivo TP6 (2).docx\n",
      "Leyendo el archivo TP6 - Sistemas emergentes - Hernan Noriega (1).docx\n",
      "Leyendo el archivo TP6 - Sistemas emergentes - Hernan Noriega.docx\n",
      "Leyendo el archivo Tp6 Filannino marketing en internet.docx\n",
      "Leyendo el archivo TP6-Gariglio.docx\n",
      "Leyendo el archivo TP6.docx\n",
      "Leyendo el archivo TPn4 hernan.docx\n",
      "Leyendo el archivo Trabajo Práctico 1 - Hernan Dalle Nogare.docx\n",
      "Leyendo el archivo Trabajo Práctico 2 - Hernan Dalle Nogare.docx\n",
      "Leyendo el archivo Trabajo Práctico 3 - Hernan Dalle Nogare (1).docx\n",
      "Leyendo el archivo Trabajo Práctico 4 - Hernan Dalle Nogare.docx\n",
      "Leyendo el archivo Trabajo Práctico 5 - Hernan Dalle Nogare.docx\n",
      "Leyendo el archivo TrabajoPráctico3HernanDalleNogare.docx\n",
      "Leyendo el archivo Lopez Tomas - TP 6 - Sistemas Emergentes.doc\n",
      "Leyendo el archivo preguntas TP Wikinomics - Gariglio.doc\n",
      "Leyendo el archivo TP 0 Gabriela Gonzalez MKTG y NV Economía.doc\n",
      "Leyendo el archivo TP 1 Wikinomics (1).doc\n",
      "Leyendo el archivo TP 1 Wikinomics.doc\n",
      "Leyendo el archivo TP 2 (1).doc\n",
      "Leyendo el archivo TP 2 - Cecilia Ramacciotti.doc\n",
      "Leyendo el archivo TP 2.doc\n",
      "Leyendo el archivo TP 3 (1).doc\n",
      "Leyendo el archivo TP 3.doc\n",
      "Leyendo el archivo TP 4.doc\n",
      "Leyendo el archivo TP 6-Franco Zanette.doc\n",
      "Leyendo el archivo TP Adopción TIC - ANTONUCCIO (1).doc\n",
      "Leyendo el archivo TP Adopción TIC - ANTONUCCIO.doc\n",
      "Leyendo el archivo TP Comercio electronico preguntas Gabriela Gonzalez.doc\n",
      "Leyendo el archivo TP Comercio electronico preguntas.doc\n",
      "Leyendo el archivo TP Johnson Sistemas emergentes - ANTONUCCIO.doc\n",
      "Leyendo el archivo TP La Larga Cola  - ANTONUCCIO (1).doc\n",
      "Leyendo el archivo TP La Larga Cola  - ANTONUCCIO.doc\n",
      "Leyendo el archivo TP La Larga Cola - Gabriela Gonzalez (1).doc\n",
      "Leyendo el archivo TP La Larga Cola - Gabriela Gonzalez.doc\n",
      "Leyendo el archivo TP La Larga Cola de Chris Anderson corto.doc\n",
      "Leyendo el archivo TP N3 - García Santillán.doc\n",
      "Leyendo el archivo TP N5 - García Santillán.doc\n",
      "Leyendo el archivo TP N°2 - La Larga Cola de Chris Anderson corto (1).doc\n",
      "Leyendo el archivo TP N°2 - La Larga Cola de Chris Anderson corto.doc\n",
      "Leyendo el archivo TP N°6 - Johnson Sistemas emergentes.doc\n",
      "Leyendo el archivo TP Rifkin La sociedad de costo Mg cero - ANTONUCCIO.doc\n",
      "Leyendo el archivo TP The experience economy - Pine II y Gilmore - ANTONUCCIO (1).doc\n",
      "Leyendo el archivo TP The experience economy - Pine II y Gilmore - ANTONUCCIO.doc\n",
      "Leyendo el archivo TP Wikinomics - ANTONUCCIO.doc\n",
      "Leyendo el archivo TP04 - TP Prince Difusión y adopción TIC (1).doc\n",
      "Leyendo el archivo TP04 - TP Prince Difusión y adopción TIC.doc\n",
      "Leyendo el archivo TP06 -  Johnson Sistemas emergentes - preguntas.doc\n",
      "Leyendo el archivo TP1 - La Larga Cola - Chris Anderson (1).doc\n",
      "Leyendo el archivo TP1 - La Larga Cola - Chris Anderson.doc\n",
      "Leyendo el archivo TP1 - Wikinomics - Santiago Peralta (1).doc\n",
      "Leyendo el archivo TP1 - Wikinomics - Santiago Peralta.doc\n",
      "Leyendo el archivo Tp1-MKT-Romano Karra.doc\n",
      "Leyendo el archivo TP2 - La Larga Cola de Chris Anderson corto - Santiago Peralta  (1).doc\n",
      "Leyendo el archivo TP2 - La Larga Cola de Chris Anderson corto - Santiago Peralta .doc\n",
      "Leyendo el archivo TP2 MKT - Gariglio (1).doc\n",
      "Leyendo el archivo TP2 MKT - Gariglio (2).doc\n",
      "Leyendo el archivo TP2 MKT - Gariglio.doc\n",
      "Leyendo el archivo TP3 Economia de Experiencia - Vit Sabrina (1).doc\n",
      "Leyendo el archivo TP3 Economia de Experiencia - Vit Sabrina.doc\n",
      "Leyendo el archivo TP4 - Comercio electronico.doc\n",
      "Leyendo el archivo TP4 - Difusión y adopción - Parte I y II - Santiago Peralta (1).doc\n",
      "Leyendo el archivo TP4 - Difusión y adopción - Parte I y II - Santiago Peralta.doc\n",
      "Leyendo el archivo TP6 Johnson Sistemas emergentes.doc\n",
      "Leyendo el archivo tpN5 hERNAN (1).doc\n",
      "Leyendo el archivo tpN5 hERNAN.doc\n",
      "Leyendo el archivo TpN6 Hernan (1).doc\n",
      "Leyendo el archivo TpN6Hernan.doc\n",
      "Leyendo el archivo TP_4-Difusion_y_Adopcion-Luis_Sosa.doc\n",
      "Leyendo el archivo TP_6-Sistemas-Emergentes-Luis_Sosa.doc\n"
     ]
    }
   ],
   "source": [
    "import re\n",
    "import os\n",
    "import glob\n",
    "import nltk\n",
    "from nltk.util import ngrams, pad_sequence, everygrams\n",
    "from nltk.tokenize import word_tokenize\n",
    "from nltk.lm import MLE, WittenBellInterpolated\n",
    "import numpy as np\n",
    "import PyPDF2\n",
    "import docx\n",
    "import plotly.graph_objects as go\n",
    "from scipy.ndimage import gaussian_filter\n",
    "from enum import Enum \n",
    "import textract\n",
    "import os.path\n",
    "\n",
    "\n",
    "\n",
    "\n",
    "#--------------------------------------------------------------------------------------------------\n",
    "#------------------------------------------ FUNCTIONS ---------------------------------------------\n",
    "#--------------------------------------------------------------------------------------------------\n",
    "\n",
    "\n",
    "\n",
    "\n",
    "#TOKENIZE TEXT \n",
    "def tokenize(text):\n",
    "    return [word for word in word_tokenize(text) if re.search(\"\\w\",\tword)]\n",
    "\n",
    "\n",
    "#CLEANING  AND TOKENIZE TEXT\n",
    "def cleaning_and_tokenize(text, model):\n",
    "    text = with_out_punct(text)\n",
    "    training_data =  tokenize(text)\n",
    "    ngrams = list(everygrams(training_data, max_len=n))\n",
    "    model.fit([ngrams], vocabulary_text=training_data)\n",
    "\n",
    "\n",
    "#CLEANING TEXT \n",
    "def with_out_punct(text):\n",
    "    text = re.sub(r\"\\[.*\\]|\\{.*\\}\", \"\", text)\n",
    "    return re.sub(r'[^\\w\\s]', \"\", text)\n",
    "\n",
    "\n",
    "\n",
    "#ASSIGN SCORES \n",
    "def assign_scores(data, model):\n",
    "    scores = []\n",
    "    for i, item in enumerate(data[n-1:]):\n",
    "        s = model.score(item, data[i:i+n-1])\n",
    "        scores.append(s)\n",
    "\n",
    "    return  np.array(scores)\n",
    "\n",
    "\n",
    "    \n",
    "\n",
    "\n",
    "\n",
    "#GRAPHIC\n",
    "\n",
    "def calculate_height(data):\n",
    "    return  np.ceil(len(data)/width).astype(\"int32\")\n",
    "\n",
    "def copy_scores(scores,height):\n",
    "    a = np.zeros(width*height)\n",
    "    print(height)\n",
    "    a[:len(scores)] = scores\n",
    "    # apply gaussian smoothing for aesthetics\n",
    "    a = gaussian_filter(a, sigma=1.0)\n",
    "    # reshape to fit rectangle\n",
    "    a = a.reshape(-1, width)\n",
    "    return len(a) - len(scores)\n",
    "\n",
    "\n",
    "def format_labels(data, diff):\n",
    "    labels = [\" \".join(data[i:i+width]) for i in range(n-1, len(data), width)]\n",
    "    labels_individual = [x.split() for x in labels]\n",
    "    labels_individual[-1] += [\"\"]*diff\n",
    "    return [f\"{x:60.60}\" for x in labels]\n",
    "\n",
    "def heat_map(labels):\n",
    "    fig = go.Figure(data=go.Heatmap(\n",
    "                    z=a, x0=0, dx=1,\n",
    "                    y=labels, zmin=0, zmax=1,\n",
    "                    customdata=labels_individual,\n",
    "                    hovertemplate='%{customdata} <br><b>Score:%{z:.3f}<extra></extra>',\n",
    "                    colorscale=\"burg\"))\n",
    "    fig.update_layout({\"height\":height*28, \"width\":1000, \"font\":{\"family\":\"Courier New\"}})\n",
    "    fig['layout']['yaxis']['autorange'] = \"reversed\"\n",
    "    fig.show()    \n",
    "\n",
    "def graphic(scores, data, height):\n",
    "    diff = copy_scores(scores, height)  \n",
    "    labels =  format_labels(data, diff)\n",
    "    heat_map(labels)\n",
    "    \n",
    "    \n",
    "#-------------------------------------- PDF --------------------------------------\n",
    "\n",
    "\n",
    "def read_pdf(path):\n",
    "    with open(path, \"rb\") as f:\n",
    "        pdf = PyPDF2.PdfFileReader(f)\n",
    "        NumPages = pdf.getNumPages()\n",
    "        output = []\n",
    "        print(\"Text: count of total pages : \",  NumPages) \n",
    "        for i in range(0, NumPages):\n",
    "            pageObj = pdf.getPage(i)\n",
    "            output.append( pageObj.extractText().lower() )\n",
    "            train_text = \" \".join(output)\n",
    "        f.close()\n",
    "        return train_text\n",
    "\n",
    "    \n",
    "#-------------------------------------- DOCX --------------------------------------\n",
    "\n",
    "def read_docx(path):\n",
    "    doc = docx.Document(path)\n",
    "    full_text = []\n",
    "    for i in doc.paragraphs:\n",
    "        full_text.append(i.text.lower())\n",
    "    return '\\n'.join(full_text)\n",
    "    \n",
    "\n",
    "        \n",
    "\n",
    "\n",
    "#--------------------------------------------------------------------------------------------------\n",
    "\n",
    "\n",
    "os.chdir(\"C:\\\\Users\\\\HP\\Desktop\\\\UTN\\\\PROCESAMIENTO LENGUAJE NATURAL\\\\dataset-nlp-plagio-utn\\\\\")\n",
    "\n",
    "\n",
    "# set ngram number\n",
    "n = 4\n",
    "\n",
    "#Initialize model\n",
    "model = WittenBellInterpolated(n)\n",
    "\n",
    "#Train model with all pdf files from dataset\n",
    "for name in glob.glob(\"*.pdf\"):\n",
    "    print(\"Leyendo el archivo %s\" % name)\n",
    "    train_text = read_pdf(name)\n",
    "    cleaning_and_tokenize(train_text, model)\n",
    "    \n",
    "#Train model with all docs files from dataset\n",
    "for name in glob.glob(\"*.docx\"):\n",
    "    print(\"Leyendo el archivo %s\" % name)\n",
    "    train_text = read_docx(name)\n",
    "    cleaning_and_tokenize(train_text, model)\n",
    "\n",
    "for name in glob.glob(\"*.doc\"):\n",
    "    print(\"Leyendo el archivo %s\" % name)\n",
    "    train_text = textract.process(name).decode(\"utf-8\")\n",
    "    cleaning_and_tokenize(train_text, model)\n",
    "\n",
    "\n",
    "\n",
    "#PATH AND FILENAMES\n",
    "    \n",
    "name_of_test_file = 'Mkt_JourdanMartin_Tp1.docx'\n",
    "train_path_name = 'C:\\\\Users\\\\HP\\\\Desktop\\\\UTN\\\\PROCESAMIENTO LENGUAJE NATURAL\\\\dataset-nlp-plagio-utn\\\\Mkt_JourdanMartin_Tp1.docx'\n",
    "testing_path_name = str('C:\\\\Users\\\\HP\\Desktop\\\\UTN\\\\PROCESAMIENTO LENGUAJE NATURAL\\\\dataset-nlp-plagio-utn\\\\' + name_of_test_file)\n",
    "\n",
    "scores = []\n",
    "width = 8\n",
    "    \n"
   ]
  },
  {
   "cell_type": "markdown",
   "id": "46794838-3c42-4821-bc11-5cd8d3b7d805",
   "metadata": {},
   "source": [
    "# Training lda model to create a dictonary"
   ]
  },
  {
   "cell_type": "code",
   "execution_count": null,
   "id": "beb79589-fb09-4ae7-ac91-e629f3f27a29",
   "metadata": {},
   "outputs": [],
   "source": [
    "import spacy\n",
    "import re\n",
    "import spacy_spanish_lemmatizer\n",
    "import gensim\n",
    "import nltk\n",
    "from gensim.utils import simple_preprocess\n",
    "from gensim.parsing.preprocessing import STOPWORDS\n",
    "from nltk.stem import WordNetLemmatizer, SnowballStemmer\n",
    "from nltk.stem.porter import *\n",
    "import PyPDF2\n",
    "import os\n",
    "import docx\n",
    "import glob\n",
    "import numpy as np\n",
    "import textract\n",
    "np.random.seed(400)\n",
    "nlp = spacy.load('en_core_web_sm')\n",
    " \n",
    "stopword_es = nltk.corpus.stopwords.words('spanish')\n",
    "\n",
    "import pandas as pd\n",
    "\n",
    "stemmer = SnowballStemmer(\"spanish\")\n",
    "\n",
    "\n",
    "#Write a function to perform the pre processing steps on the entire dataset\n",
    "\n",
    "def lemmatize_stemming(token):\n",
    "    return token.lemma_\n",
    "\n",
    "# Tokenize and lemmatize\n",
    "def preprocess(text):\n",
    "    result=[]\n",
    "    text_no_digits = ''.join([i for i in text if not i.isdigit()])\n",
    "    for token in nlp(text_no_digits) :\n",
    "        #print(token.lemma_)\n",
    "        if token.text not in stopword_es and len(token.text) > 3 and not \"\\n\" in token.text and not \" \" in token.text:\n",
    "            result.append(token.lemma_)\n",
    "            \n",
    "    return result\n",
    "\n",
    " \n",
    "document_num = 50\n",
    "doc_sample = \"Un sistema de archivos o sistema de ficheros\"\n",
    "\n",
    "words = []\n",
    "for word in doc_sample.split(' '):\n",
    "    words.append(word)\n",
    "\n",
    "\n",
    "processed_docs = []\n",
    "\n",
    "os.chdir(\"C:\\\\Users\\\\HP\\Desktop\\\\UTN\\\\PROCESAMIENTO LENGUAJE NATURAL\\\\dataset-nlp-plagio-utn\\\\\")\n",
    "#CLEANING TEXT \n",
    "def with_out_punct(text):\n",
    "    text = re.sub(r\"\\[.*\\]|\\{.*\\}\", \"\", text)\n",
    "    return re.sub(r'[^\\w\\s]', \"\", text)\n",
    "\n",
    "def read_pdf(path):\n",
    "    with open(path, \"rb\") as f:\n",
    "        pdf = PyPDF2.PdfFileReader(f)\n",
    "        NumPages = pdf.getNumPages()\n",
    "        output = []\n",
    "   \n",
    "        for i in range(0, NumPages):\n",
    "            pageObj = pdf.getPage(i)\n",
    "            output.append( pageObj.extractText().lower() )\n",
    "            train_text = \" \".join(output)\n",
    "        f.close()\n",
    "        return with_out_punct(train_text)\n",
    "    \n",
    "def read_docx(path):\n",
    "    doc = docx.Document(path)\n",
    "    full_text = []\n",
    "    for i in doc.paragraphs:\n",
    "        full_text.append(i.text.lower())\n",
    "    return '\\n'.join(full_text)\n",
    "    \n",
    "\n",
    "#Train model with all   files from dataset\n",
    "\n",
    "for name in glob.glob(\"*.doc\"):\n",
    "    trainText = textract.process(name).decode(\"utf-8\")\n",
    "    processed_docs.append(preprocess(train_text))\n",
    "\n",
    "for name in glob.glob(\"*.pdf\"):\n",
    "    train_text = read_pdf(name)\n",
    "    processed_docs.append(preprocess(train_text))\n",
    "    \n",
    "for name in glob.glob(\"*.docx\"):\n",
    "    train_text = read_docx(name)\n",
    "    processed_docs.append(preprocess(train_text))\n",
    "    \n",
    "\n",
    "\n",
    "    \n",
    "\n",
    "#Create a dictionary from 'processed_docs' containing the number of times a word appears \n",
    "#in the training set using gensim.corpora.Dictionary and call it 'dictionary'\n",
    "\n",
    "dictionary = gensim.corpora.Dictionary(processed_docs)\n",
    "\n"
   ]
  },
  {
   "cell_type": "markdown",
   "id": "09516c89-7ba5-4eae-9ad6-ff126adf1ff8",
   "metadata": {},
   "source": [
    "# Training lda model using gensim.models.LdaMulticore and showing the main topics "
   ]
  },
  {
   "cell_type": "code",
   "execution_count": 161,
   "id": "d6d53543-6cb1-482c-83f5-2300de2bafeb",
   "metadata": {},
   "outputs": [
    {
     "name": "stdout",
     "output_type": "stream",
     "text": [
      "Topic: 0 \n",
      "Words: 0.008*\"ciento\" + 0.008*\"boca\" + 0.007*\"aspiraciones\" + 0.006*\"adoptada\" + 0.006*\"n(t-\" + 0.006*\"análisis\" + 0.006*\"potenciales\" + 0.005*\"compre\" + 0.005*\"lídere\" + 0.005*\"llamado\"\n",
      "\n",
      "\n",
      "Topic: 1 \n",
      "Words: 0.011*\"adoptan\" + 0.010*\"plantea\" + 0.009*\"organismo\" + 0.008*\"conductas\" + 0.008*\"arriesgado\" + 0.008*\"propensión\" + 0.008*\"acotada\" + 0.007*\"aquel\" + 0.007*\"ecuación\" + 0.007*\"observan\"\n",
      "\n",
      "\n",
      "Topic: 2 \n",
      "Words: 0.018*\"kotler\" + 0.014*\"marca\" + 0.014*\"marcas\" + 0.014*\"línea\" + 0.013*\"conectividad\" + 0.011*\"posicionamiento\" + 0.010*\"uber\" + 0.010*\"vertical\" + 0.010*\"promesa\" + 0.008*\"inteligencia\"\n",
      "\n",
      "\n",
      "Topic: 3 \n",
      "Words: 0.010*\"comprometer\" + 0.007*\"memorable\" + 0.007*\"pine\" + 0.007*\"real\" + 0.007*\"gilmore\" + 0.007*\"absoluto\" + 0.006*\"joseph\" + 0.006*\"exploratoria\" + 0.006*\"gratificante\" + 0.006*\"elusiva\"\n",
      "\n",
      "\n",
      "Topic: 4 \n",
      "Words: 0.012*\"nicho\" + 0.010*\"costes\" + 0.009*\"populare\" + 0.009*\"democratizar\" + 0.008*\"netflix\" + 0.008*\"éxitos\" + 0.007*\"popularidad\" + 0.006*\"inventario\" + 0.006*\"tienda\" + 0.006*\"reducir\"\n",
      "\n",
      "\n",
      "Topic: 5 \n",
      "Words: 0.015*\"moho\" + 0.014*\"ascendente\" + 0.014*\"organismo\" + 0.014*\"complejas\" + 0.013*\"agente\" + 0.010*\"fango\" + 0.010*\"morfogénesis\" + 0.009*\"conductas\" + 0.009*\"centrale\" + 0.009*\"david\"\n",
      "\n",
      "\n",
      "Topic: 6 \n",
      "Words: 0.014*\"transacción\" + 0.009*\"global\" + 0.008*\"termodinámica\" + 0.008*\"coase\" + 0.007*\"desarrolle\" + 0.007*\"emergencia\" + 0.006*\"propiedad\" + 0.006*\"autoselección\" + 0.006*\"procomún\" + 0.006*\"tareas\"\n",
      "\n",
      "\n",
      "Topic: 7 \n",
      "Words: 0.021*\"bbrroossii\" + 0.017*\"mmaarrcceelloo\" + 0.015*\"argentina\" + 0.011*\"commerce\" + 0.009*\"millone\" + 0.008*\"adopci\" + 0.007*\"dólare\" + 0.007*\"unido\" + 0.007*\"porcentaje\" + 0.006*\"juan\"\n",
      "\n",
      "\n"
     ]
    }
   ],
   "source": [
    "\n",
    "#Remove very rare and very common words:\n",
    "#- words appearing less than 15 times\n",
    "#- words appearing in more than 10% of all documents\n",
    "\n",
    "\n",
    "\n",
    "dictionary.filter_extremes(no_below=5, no_above=0.1, keep_n= 100000)\n",
    "\n",
    "\n",
    "\n",
    "#Create the Bag-of-words model for each document i.e for each document we create a dictionary reporting how many\n",
    "#words and how many times those words appear. Save this to 'bow_corpus'\n",
    "\n",
    "\n",
    "bow_corpus = [dictionary.doc2bow(doc) for doc in processed_docs]\n",
    "\n",
    " \n",
    "document_num = 0\n",
    "bow_doc_x = bow_corpus[document_num]\n",
    "\n",
    "    \n",
    "\n",
    "\n",
    "#Train your lda model using gensim.models.LdaMulticore and save it to 'lda_model'\n",
    " \n",
    "lda_model =  gensim.models.LdaMulticore(bow_corpus, \n",
    "                                   num_topics = 8, \n",
    "                                   id2word = dictionary,                                    \n",
    "                                   passes = 10,\n",
    "                                   workers = 2)\n",
    "\n",
    "#For each topic, we will explore the words occuring in that topic and its relative weight\n",
    "\n",
    "for idx, topic in lda_model.print_topics(-1):\n",
    "    print(\"Topic: {} \\nWords: {}\".format(idx, topic ))\n",
    "    print(\"\\n\")\n",
    "\n"
   ]
  },
  {
   "cell_type": "markdown",
   "id": "70023b9b-23aa-4ed7-8371-4cdd342c4276",
   "metadata": {},
   "source": [
    "# Topic with the highest percentage"
   ]
  },
  {
   "cell_type": "code",
   "execution_count": 172,
   "id": "d718f07f-c2f4-427d-b027-ef3fd0b9568a",
   "metadata": {},
   "outputs": [
    {
     "name": "stdout",
     "output_type": "stream",
     "text": [
      "\n",
      " ->Topics:  0\n",
      "ciento  boca  aspiraciones  adoptada  nt  análisis  potenciales  compre  lídere  llamado\n",
      "\n",
      " ->Topics:  1\n",
      "adoptan  plantea  organismo  conductas  arriesgado  propensión  acotada  aquel  ecuación  observan\n",
      "\n",
      " ->Topics:  2\n",
      "kotler  marca  marcas  línea  conectividad  posicionamiento  uber  vertical  promesa  inteligencia\n",
      "\n",
      " ->Topics:  3\n",
      "comprometer  memorable  pine  real  gilmore  absoluto  joseph  exploratoria  gratificante  elusiva\n",
      "\n",
      " ->Topics:  4\n",
      "nicho  costes  populare  democratizar  netflix  éxitos  popularidad  inventario  tienda  reducir\n",
      "\n",
      " ->Topics:  5\n",
      "moho  ascendente  organismo  complejas  agente  fango  morfogénesis  conductas  centrale  david\n",
      "\n",
      " ->Topics:  6\n",
      "transacción  global  termodinámica  coase  desarrolle  emergencia  propiedad  autoselección  procomún  tareas\n",
      "\n",
      " ->Topics:  7\n",
      "bbrroossii  mmaarrcceelloo  argentina  commerce  millone  adopci  dólare  unido  porcentaje  juan\n",
      "\n",
      "---------------------------------------------------------------------------------------------------------------------------- \n",
      "\n",
      "Number of topic with the highest percentage:  \n",
      "6\n",
      "\n",
      "----------------------------------------------------------------------------------------------------------------------------- \n",
      "\n",
      "Text of topic with the highest percentage:  \n",
      "transacción  global  termodinámica  coase  desarrolle  emergencia  propiedad  autoselección  procomún  tareas\n"
     ]
    }
   ],
   "source": [
    "list_topics =  []\n",
    "for i in range(8):\n",
    "    topics_with_num = with_out_punct(lda_model.print_topic(i))\n",
    "    topics = ''.join([i for i in topics_with_num if not i.isdigit()])\n",
    "    list_topics.append(topics)\n",
    "    print(\"\\n ->Topics: \", i)\n",
    "    print(list_topics[i])\n",
    "    \n",
    "\n",
    "#New text debe ser el texto del archivo a testear\n",
    "new_text = testing_text\n",
    "tokens = [stemmer.stem(token) for token in preprocess(new_text.lower())]\n",
    "total_topics = lda_model[dictionary.doc2bow(tokens)]\n",
    "\n",
    "\n",
    "max_topic_tuple = max(total_topics, key=lambda e: e[1])\n",
    "max_topic = max_topic_tuple[0]\n",
    "print(\"\\n---------------------------------------------------------------------------------------------------------------------------- \")\n",
    "print(\"\\nNumber of topic with the highest percentage:  \")\n",
    "print(max_topic)\n",
    "print(\"\\n----------------------------------------------------------------------------------------------------------------------------- \")\n",
    "topic_to_find = list_topics[max_topic]\n",
    "print(\"\\nText of topic with the highest percentage:  \")\n",
    "print(topic_to_find)\n",
    "\n"
   ]
  },
  {
   "cell_type": "markdown",
   "id": "ffeba468-76f2-4784-8a25-82cae9b42470",
   "metadata": {},
   "source": [
    "# Searching links related to the topic with the highest percentage"
   ]
  },
  {
   "cell_type": "code",
   "execution_count": 174,
   "id": "e6d7f230-42f0-4a2b-aa08-3803dcc8884b",
   "metadata": {},
   "outputs": [
    {
     "name": "stdout",
     "output_type": "stream",
     "text": [
      "Links related: \n",
      "['https://economipedia.com/definiciones/teorema-de-coase.html', 'https://es.wikipedia.org/wiki/Teorema_de_Coase', 'http://www.asociacioneconomiacritica.org/wp-content/uploads/2021/08/Libro-de-Actas-XVII-JEC.pdf']\n"
     ]
    }
   ],
   "source": [
    "from googlesearch import search\n",
    "\n",
    "# to search \n",
    "query = topic_to_find\n",
    "\n",
    "links = []\n",
    "for j in search(query, num=10, stop=10, pause=2): \n",
    "    links.append(j) \n",
    "\n",
    "print(\"Links related: \")\n",
    "print(links)"
   ]
  },
  {
   "cell_type": "markdown",
   "id": "7ae1caa4-663f-4494-ab57-6cab909b668d",
   "metadata": {},
   "source": [
    "# Extracting text from web pages"
   ]
  },
  {
   "cell_type": "code",
   "execution_count": 188,
   "id": "31aa8d77-37f6-426f-aafd-6aeb462245e1",
   "metadata": {},
   "outputs": [],
   "source": [
    "import requests\n",
    "from bs4 import BeautifulSoup\n",
    "\n",
    "url = 'https://es.wikipedia.org/wiki/Teorema_de_Coase'\n",
    "res = requests.get(url)\n",
    "html_page = res.content\n",
    "soup = BeautifulSoup(html_page, 'html.parser')\n",
    "text = soup.find_all(text=True)\n",
    "\n",
    "output = ''\n",
    "blacklist = [\n",
    "    '[document]',\n",
    "    'noscript',\n",
    "    'header',\n",
    "    'html',\n",
    "    'meta',\n",
    "    'head', \n",
    "    'input',\n",
    "    'script',\n",
    " \n",
    "]\n",
    "\n",
    "for t in text:\n",
    "    if t.parent.name not in blacklist:\n",
    "        output += '{} '.format(t)\n",
    "\n",
    "web_text = re.sub(r'\\n', '', output)\n",
    "tokenize_token = cleaning_and_tokenize(web_text, model)\n"
   ]
  },
  {
   "cell_type": "code",
   "execution_count": 242,
   "id": "cc886efc-0f21-4851-8102-ba3bdce84e69",
   "metadata": {},
   "outputs": [
    {
     "name": "stdout",
     "output_type": "stream",
     "text": [
      "Testing file name:\n",
      "Mkt_JourdanMartin_Tp1.docx\n"
     ]
    },
    {
     "data": {
      "application/vnd.plotly.v1+json": {
       "config": {
        "plotlyServerURL": "https://plot.ly"
       },
       "data": [
        {
         "colorscale": [
          [
           0,
           "rgb(255, 198, 196)"
          ],
          [
           0.16666666666666666,
           "rgb(244, 163, 168)"
          ],
          [
           0.3333333333333333,
           "rgb(227, 129, 145)"
          ],
          [
           0.5,
           "rgb(204, 96, 125)"
          ],
          [
           0.6666666666666666,
           "rgb(173, 70, 108)"
          ],
          [
           0.8333333333333334,
           "rgb(139, 48, 88)"
          ],
          [
           1,
           "rgb(103, 32, 68)"
          ]
         ],
         "customdata": [
          [
           "y",
           "nueva",
           "economía",
           "tp",
           "nº1",
           "wikinomics",
           "curso",
           "k5071"
          ],
          [
           "legajo",
           "138.694-3",
           "alumno",
           "jourdan",
           "martin",
           "fecha",
           "de",
           "entrega"
          ],
          [
           "05/09/2016",
           "1.-",
           "desarrolle",
           "el",
           "concepto",
           "producción",
           "entre",
           "iguales"
          ],
          [
           "el",
           "concepto",
           "producción",
           "entre",
           "iguales",
           "se",
           "relaciona",
           "con"
          ],
          [
           "lo",
           "que",
           "sucede",
           "cuando",
           "tanto",
           "personas",
           "como",
           "empresas"
          ],
          [
           "colaboran",
           "abiertamente",
           "con",
           "el",
           "objetivo",
           "de",
           "potenciar",
           "la"
          ],
          [
           "innovación",
           "y",
           "el",
           "crecimiento",
           "en",
           "sus",
           "sectores",
           "esto"
          ],
          [
           "es",
           "facilitado",
           "por",
           "la",
           "gran",
           "accesibilidad",
           "a",
           "la"
          ],
          [
           "tecnología",
           "con",
           "la",
           "que",
           "se",
           "cuenta",
           "2.-",
           "enuncie"
          ],
          [
           "y",
           "desarrolle",
           "las",
           "4",
           "ideas",
           "o",
           "componentes",
           "en"
          ],
          [
           "las",
           "que",
           "se",
           "basa",
           "la",
           "wikinomía",
           "dé",
           "un"
          ],
          [
           "ejemplo",
           "de",
           "cada",
           "una",
           "apertura",
           "poseer",
           "la",
           "flexibilidad"
          ],
          [
           "para",
           "colaborar",
           "entre",
           "empresas",
           "ejemplo",
           "base",
           "de",
           "datos"
          ],
          [
           "mysql",
           "para",
           "las",
           "bd",
           "linux",
           "para",
           "los",
           "so"
          ],
          [
           "interacción",
           "entre",
           "iguales",
           "forma",
           "de",
           "organización",
           "horizontal",
           "no"
          ],
          [
           "jerárquica",
           "donde",
           "se",
           "diseña",
           "bienes",
           "o",
           "servicios",
           "se"
          ],
          [
           "crea",
           "conocimiento",
           "o",
           "sencillamente",
           "se",
           "produce",
           "experiencias",
           "dinámicas"
          ],
          [
           "y",
           "compartidas",
           "potencia",
           "el",
           "auto",
           "organización",
           "ejemplo",
           "linux"
          ],
          [
           "wikipedia",
           "etc",
           "que",
           "poseen",
           "un",
           "contenido",
           "que",
           "permite"
          ],
          [
           "la",
           "interacción",
           "entre",
           "iguales",
           "todos",
           "pudiendo",
           "tener",
           "acceso"
          ],
          [
           "a",
           "leer",
           "y",
           "editar",
           "su",
           "contenido",
           "compartir",
           "expresa"
          ],
          [
           "la",
           "idea",
           "de",
           "dejar",
           "atrás",
           "todas",
           "las",
           "restricciones"
          ],
          [
           "y",
           "propiedades",
           "sobre",
           "cosas",
           "como",
           "el",
           "conocimiento",
           "y"
          ],
          [
           "en",
           "su",
           "lugar",
           "compartirlas",
           "libremente",
           "también",
           "se",
           "refiere"
          ],
          [
           "a",
           "compartir",
           "otros",
           "recursos",
           "capacidad",
           "informática",
           "ancho",
           "de"
          ],
          [
           "banda",
           "contenido",
           "todo",
           "programa",
           "open",
           "source",
           "es",
           "ejemplo"
          ],
          [
           "de",
           "esto",
           "en",
           "vez",
           "de",
           "cerrarse",
           "en",
           "proteger"
          ],
          [
           "su",
           "código",
           "lo",
           "comparten",
           "para",
           "enriquecerlo",
           "ejemplo",
           "skype"
          ],
          [
           "actuación",
           "global",
           "utilizar",
           "la",
           "globalización",
           "y",
           "el",
           "avance"
          ],
          [
           "de",
           "los",
           "nuevos",
           "mercados",
           "ideas",
           "y",
           "tecnologías",
           "para"
          ],
          [
           "ampliarse",
           "y",
           "poder",
           "competir",
           "en",
           "el",
           "mundo",
           "empresarial"
          ],
          [
           "no",
           "contar",
           "con",
           "fronteras",
           "físicas",
           "ni",
           "regionales",
           "ejemplo"
          ],
          [
           "facebook",
           "3.-",
           "explique",
           "y",
           "dé",
           "ejemplos",
           "de",
           "la"
          ],
          [
           "emergencia",
           "como",
           "consecuencia",
           "de",
           "la",
           "colaboración",
           "masiva",
           "emergencia"
          ],
          [
           "se",
           "refiere",
           "al",
           "surgimiento",
           "de",
           "nuevas",
           "estructuras",
           "atributos"
          ],
          [
           "y",
           "capacidades",
           "que",
           "no",
           "pertenecen",
           "a",
           "un",
           "nodo"
          ],
          [
           "de",
           "la",
           "red",
           "por",
           "sí",
           "solo",
           "sino",
           "a"
          ],
          [
           "todo",
           "en",
           "su",
           "conjunto",
           "el",
           "valor",
           "surge",
           "de"
          ],
          [
           "la",
           "red",
           "conectada",
           "y",
           "no",
           "de",
           "los",
           "nodos"
          ],
          [
           "separados",
           "ejemplos",
           "google",
           "amazon",
           "el",
           "software",
           "libre",
           "4.-"
          ],
          [
           "¿qué",
           "enunciaba",
           "la",
           "ley",
           "de",
           "coase",
           "originalmente",
           "y"
          ],
          [
           "ahora",
           "¿qué",
           "implicancias",
           "tiene",
           "explique",
           "qué",
           "y",
           "cuáles"
          ],
          [
           "son",
           "los",
           "costos",
           "de",
           "transacción",
           "la",
           "ley",
           "de"
          ],
          [
           "coase",
           "establece",
           "que",
           "en",
           "caso",
           "de",
           "ser",
           "más"
          ],
          [
           "barato",
           "realizar",
           "una",
           "transacción",
           "dentro",
           "de",
           "la",
           "empresa"
          ],
          [
           "conviene",
           "realizarlo",
           "de",
           "esa",
           "manera",
           "pero",
           "en",
           "el"
          ],
          [
           "caso",
           "en",
           "que",
           "los",
           "costes",
           "de",
           "esta",
           "misma"
          ],
          [
           "transacción",
           "en",
           "el",
           "mercado",
           "y",
           "fuera",
           "de",
           "la"
          ],
          [
           "empresa",
           "fueran",
           "menores",
           "no",
           "conviene",
           "intentar",
           "hacerlo",
           "de"
          ],
          [
           "forma",
           "interna",
           "actualmente",
           "internet",
           "hizo",
           "que",
           "los",
           "costes"
          ],
          [
           "de",
           "transacción",
           "decaigan",
           "entonces",
           "la",
           "ley",
           "se",
           "lee"
          ],
          [
           "a",
           "la",
           "inversa",
           "la",
           "empresa",
           "debe",
           "realizar",
           "la"
          ],
          [
           "transacción",
           "en",
           "forma",
           "externa",
           "hasta",
           "que",
           "la",
           "realización"
          ],
          [
           "de",
           "la",
           "misma",
           "tenga",
           "un",
           "coste",
           "menor",
           "en"
          ],
          [
           "forma",
           "interna",
           "los",
           "costos",
           "de",
           "transacción",
           "son",
           "los"
          ],
          [
           "costos",
           "de",
           "búsqueda",
           "localizar",
           "comparar",
           "y",
           "elegir",
           "proveedores"
          ],
          [
           "los",
           "costos",
           "de",
           "contratación",
           "negociar",
           "el",
           "precio",
           "y"
          ],
          [
           "las",
           "condiciones",
           "los",
           "costos",
           "de",
           "coordinación",
           "encajar",
           "los"
          ],
          [
           "productos",
           "y",
           "procesos",
           "5.-",
           "¿qué",
           "elementos",
           "favorecen",
           "la"
          ],
          [
           "producción",
           "colaborativa",
           "la",
           "producción",
           "colaborativa",
           "favorece",
           "los",
           "siguientes"
          ],
          [
           "elementos",
           "combina",
           "jerarquía",
           "y",
           "auto",
           "organización",
           "los",
           "miembros"
          ],
          [
           "con",
           "más",
           "experiencia",
           "asumen",
           "el",
           "liderazgo",
           "y",
           "ayudan"
          ],
          [
           "a",
           "integrar",
           "los",
           "aportes",
           "de",
           "la",
           "comunidad",
           "las"
          ],
          [
           "actividades",
           "productivas",
           "son",
           "voluntarias",
           "las",
           "personas",
           "pueden",
           "colaborar"
          ],
          [
           "y",
           "compartir",
           "sus",
           "creaciones",
           "por",
           "un",
           "costo",
           "muy"
          ],
          [
           "reducido",
           "las",
           "actividades",
           "productivas",
           "carecen",
           "de",
           "beneficios",
           "monetarios"
          ],
          [
           "6.-",
           "¿qué",
           "rol",
           "juega",
           "la",
           "autoselección",
           "en",
           "la"
          ],
          [
           "producción",
           "entre",
           "pares",
           "la",
           "autoselección",
           "es",
           "la",
           "motivación"
          ],
          [
           "voluntaria",
           "para",
           "realizar",
           "una",
           "tarea",
           "de",
           "la",
           "que"
          ],
          [
           "nos",
           "sentimos",
           "capaces",
           "con",
           "los",
           "conocimientos",
           "o",
           "la"
          ],
          [
           "creatividad",
           "necesaria",
           "para",
           "hacerla",
           "nosotros",
           "mismos",
           "nos",
           "asignamos"
          ],
          [
           "una",
           "tarea",
           "mucho",
           "mejor",
           "que",
           "si",
           "un",
           "superior"
          ],
          [
           "tuviera",
           "que",
           "hacerlo",
           "además",
           "sin",
           "la",
           "producción",
           "colaborativa"
          ],
          [
           "la",
           "cantidad",
           "de",
           "recursos",
           "que",
           "pueden",
           "cumplir",
           "cada"
          ],
          [
           "tarea",
           "es",
           "limitada",
           "7.-",
           "¿bajo",
           "qué",
           "3",
           "condiciones"
          ],
          [
           "se",
           "favorece",
           "la",
           "producción",
           "entre",
           "iguales",
           "lo",
           "que"
          ],
          [
           "se",
           "debe",
           "producir",
           "es",
           "información",
           "o",
           "cultura",
           "las"
          ],
          [
           "tareas",
           "deben",
           "poder",
           "descomponerse",
           "en",
           "trabajos",
           "pequeños",
           "que"
          ],
          [
           "no",
           "impliquen",
           "mucho",
           "tiempo",
           "y",
           "esfuerzo",
           "lo",
           "que"
          ],
          [
           "hace",
           "que",
           "la",
           "inversión",
           "en",
           "tiempo",
           "y",
           "energía"
          ],
          [
           "sea",
           "poca",
           "en",
           "comparación",
           "con",
           "los",
           "beneficios",
           "que"
          ],
          [
           "obtiene",
           "el",
           "colaborador",
           "el",
           "costo",
           "de",
           "combinar",
           "estas"
          ],
          [
           "descomposiciones",
           "de",
           "la",
           "tarea",
           "también",
           "deben",
           "ser",
           "bajos",
           "",
           "",
           "",
           "",
           "",
           "",
           "",
           ""
          ]
         ],
         "dx": 1,
         "hovertemplate": "%{customdata} <br><b>Score:%{z:.3f}<extra></extra>",
         "type": "heatmap",
         "x0": 0,
         "y": [
          "y nueva economía tp nº1 wikinomics curso k5071              ",
          "legajo 138.694-3 alumno jourdan martin fecha de entrega     ",
          "05/09/2016 1.- desarrolle el concepto producción entre igual",
          "el concepto producción entre iguales se relaciona con       ",
          "lo que sucede cuando tanto personas como empresas           ",
          "colaboran abiertamente con el objetivo de potenciar la      ",
          "innovación y el crecimiento en sus sectores esto            ",
          "es facilitado por la gran accesibilidad a la                ",
          "tecnología con la que se cuenta 2.- enuncie                 ",
          "y desarrolle las 4 ideas o componentes en                   ",
          "las que se basa la wikinomía dé un                          ",
          "ejemplo de cada una apertura poseer la flexibilidad         ",
          "para colaborar entre empresas ejemplo base de datos         ",
          "mysql para las bd linux para los so                         ",
          "interacción entre iguales forma de organización horizontal n",
          "jerárquica donde se diseña bienes o servicios se            ",
          "crea conocimiento o sencillamente se produce experiencias di",
          "y compartidas potencia el auto organización ejemplo linux   ",
          "wikipedia etc que poseen un contenido que permite           ",
          "la interacción entre iguales todos pudiendo tener acceso    ",
          "a leer y editar su contenido compartir expresa              ",
          "la idea de dejar atrás todas las restricciones              ",
          "y propiedades sobre cosas como el conocimiento y            ",
          "en su lugar compartirlas libremente también se refiere      ",
          "a compartir otros recursos capacidad informática ancho de   ",
          "banda contenido todo programa open source es ejemplo        ",
          "de esto en vez de cerrarse en proteger                      ",
          "su código lo comparten para enriquecerlo ejemplo skype      ",
          "actuación global utilizar la globalización y el avance      ",
          "de los nuevos mercados ideas y tecnologías para             ",
          "ampliarse y poder competir en el mundo empresarial          ",
          "no contar con fronteras físicas ni regionales ejemplo       ",
          "facebook 3.- explique y dé ejemplos de la                   ",
          "emergencia como consecuencia de la colaboración masiva emerg",
          "se refiere al surgimiento de nuevas estructuras atributos   ",
          "y capacidades que no pertenecen a un nodo                   ",
          "de la red por sí solo sino a                                ",
          "todo en su conjunto el valor surge de                       ",
          "la red conectada y no de los nodos                          ",
          "separados ejemplos google amazon el software libre 4.-      ",
          "¿qué enunciaba la ley de coase originalmente y              ",
          "ahora ¿qué implicancias tiene explique qué y cuáles         ",
          "son los costos de transacción la ley de                     ",
          "coase establece que en caso de ser más                      ",
          "barato realizar una transacción dentro de la empresa        ",
          "conviene realizarlo de esa manera pero en el                ",
          "caso en que los costes de esta misma                        ",
          "transacción en el mercado y fuera de la                     ",
          "empresa fueran menores no conviene intentar hacerlo de      ",
          "forma interna actualmente internet hizo que los costes      ",
          "de transacción decaigan entonces la ley se lee              ",
          "a la inversa la empresa debe realizar la                    ",
          "transacción en forma externa hasta que la realización       ",
          "de la misma tenga un coste menor en                         ",
          "forma interna los costos de transacción son los             ",
          "costos de búsqueda localizar comparar y elegir proveedores  ",
          "los costos de contratación negociar el precio y             ",
          "las condiciones los costos de coordinación encajar los      ",
          "productos y procesos 5.- ¿qué elementos favorecen la        ",
          "producción colaborativa la producción colaborativa favorece ",
          "elementos combina jerarquía y auto organización los miembros",
          "con más experiencia asumen el liderazgo y ayudan            ",
          "a integrar los aportes de la comunidad las                  ",
          "actividades productivas son voluntarias las personas pueden ",
          "y compartir sus creaciones por un costo muy                 ",
          "reducido las actividades productivas carecen de beneficios m",
          "6.- ¿qué rol juega la autoselección en la                   ",
          "producción entre pares la autoselección es la motivación    ",
          "voluntaria para realizar una tarea de la que                ",
          "nos sentimos capaces con los conocimientos o la             ",
          "creatividad necesaria para hacerla nosotros mismos nos asign",
          "una tarea mucho mejor que si un superior                    ",
          "tuviera que hacerlo además sin la producción colaborativa   ",
          "la cantidad de recursos que pueden cumplir cada             ",
          "tarea es limitada 7.- ¿bajo qué 3 condiciones               ",
          "se favorece la producción entre iguales lo que              ",
          "se debe producir es información o cultura las               ",
          "tareas deben poder descomponerse en trabajos pequeños que   ",
          "no impliquen mucho tiempo y esfuerzo lo que                 ",
          "hace que la inversión en tiempo y energía                   ",
          "sea poca en comparación con los beneficios que              ",
          "obtiene el colaborador el costo de combinar estas           ",
          "descomposiciones de la tarea también deben ser bajos        "
         ],
         "z": [
          [
           0.8218733197567107,
           0.8820130154220243,
           0.8214259244891418,
           0.629443208601449,
           0.5027228652476755,
           0.488672087229409,
           0.5231283016015332,
           0.5459557973390919
          ],
          [
           0.524497391587256,
           0.4232517378683602,
           0.35492504924429036,
           0.48381335051573815,
           0.5540331257214989,
           0.520368131841736,
           0.6760805313474428,
           0.8141450099858707
          ],
          [
           0.7371248722638535,
           0.5571375810668784,
           0.4113716508491565,
           0.3528553977583403,
           0.38775895066186217,
           0.32558535426283053,
           0.28891426895007066,
           0.35853578671963954
          ],
          [
           0.4013992477971672,
           0.446696390345961,
           0.3570464907880666,
           0.2960482692488048,
           0.36482054777198153,
           0.4229269638713632,
           0.447617527234124,
           0.3004517897928145
          ],
          [
           0.26064999432056085,
           0.3945911944235717,
           0.3743569555933614,
           0.21961039285633746,
           0.15651704938727043,
           0.1531639828777739,
           0.18323485531942446,
           0.2836959828662705
          ],
          [
           0.35528418866673045,
           0.30534057923624025,
           0.21748346728367984,
           0.3010861033612109,
           0.4554680582798119,
           0.45021758152923774,
           0.36163404694108686,
           0.34644369257915214
          ],
          [
           0.38528361505831393,
           0.29509599531855274,
           0.30067557128545397,
           0.3823038934971563,
           0.3004155639683782,
           0.32561233606813467,
           0.42488692175545406,
           0.32441391933216435
          ],
          [
           0.2988223212073825,
           0.3487723847164479,
           0.2899379886432767,
           0.3554123634273343,
           0.47534563663249074,
           0.35828849900020554,
           0.16434062386781906,
           0.08306098369195414
          ],
          [
           0.10019691016889473,
           0.2635187550427891,
           0.4742704085840028,
           0.49930104169973755,
           0.49572329823165995,
           0.5355580789792093,
           0.39514602513441927,
           0.2412616782436266
          ],
          [
           0.24777334214952484,
           0.3172175868810618,
           0.3326190074319119,
           0.48475457230502295,
           0.6598198371979735,
           0.6692758583765296,
           0.5765549979378108,
           0.35135791296970004
          ],
          [
           0.24742289156943464,
           0.4276859829407026,
           0.7112479841080763,
           0.7476658733457866,
           0.6193184169131803,
           0.5747467714025768,
           0.41196509126233105,
           0.21004641512185204
          ],
          [
           0.2560777210421685,
           0.4860939525866269,
           0.622272058129594,
           0.6402382315111778,
           0.6090085590608603,
           0.4695959926216019,
           0.3745381420340899,
           0.4022393943301038
          ],
          [
           0.37502113102137025,
           0.3623806537224698,
           0.37486484191647795,
           0.4160932993440884,
           0.4139971742981295,
           0.4436316361974419,
           0.43497643002960085,
           0.4230457875963137
          ],
          [
           0.3251950503415263,
           0.19227314106822113,
           0.2596666202281056,
           0.40544405243687176,
           0.32279723899088464,
           0.1767416881952694,
           0.26267503797671493,
           0.41534817305468213
          ],
          [
           0.32613715340648836,
           0.26447430939515204,
           0.34456108436466815,
           0.4204759617794127,
           0.5975998943051152,
           0.6520608408890092,
           0.45041381857535223,
           0.2639830659486238
          ],
          [
           0.23243280084838114,
           0.276371367795946,
           0.4276610546204102,
           0.48464060379336255,
           0.3064315154296811,
           0.11206508775824726,
           0.08585817920188821,
           0.27601444908571504
          ],
          [
           0.4856484121333603,
           0.41342750244806936,
           0.3280534732949953,
           0.38021874287456764,
           0.38614435678618536,
           0.3959178424342549,
           0.3767219379566435,
           0.3952292068912404
          ],
          [
           0.42700496005291316,
           0.4568866457024098,
           0.41198183804057525,
           0.4909655459380685,
           0.5963669502699018,
           0.4974384641983599,
           0.3170146733318092,
           0.2728251177255805
          ],
          [
           0.23209748137145778,
           0.16120715764929378,
           0.26835567599565574,
           0.46591139022204775,
           0.47676379626957305,
           0.3968677805314975,
           0.3497513730850316,
           0.3796873577844757
          ],
          [
           0.4039284333888226,
           0.43971981760744017,
           0.4481330129372152,
           0.5191255398347915,
           0.5317098402788278,
           0.5095462855519479,
           0.5057456507918979,
           0.42771311126479494
          ],
          [
           0.32605430285318104,
           0.3001203895283152,
           0.29068629654820083,
           0.3564351619224289,
           0.430470671020817,
           0.47560723330477284,
           0.4932275150463049,
           0.3902262971503099
          ],
          [
           0.20601543315781842,
           0.17720033793807943,
           0.24960470401122245,
           0.22439366977813,
           0.2258122865960018,
           0.2578360264549934,
           0.29777666862233765,
           0.3672857590452754
          ],
          [
           0.36219806702995816,
           0.4013825371745249,
           0.4206734126787734,
           0.32276242752596335,
           0.17908646454717744,
           0.1667372523483381,
           0.21745709825182166,
           0.17391350379279666
          ],
          [
           0.21083146997999302,
           0.4056393207160854,
           0.5308625892773506,
           0.522036929503116,
           0.49854557710329894,
           0.4285435474118492,
           0.38082972974117424,
           0.42025028207093595
          ],
          [
           0.3601582244789142,
           0.29727180244128276,
           0.3437954126328514,
           0.4771642373521899,
           0.5058199644500323,
           0.48401281094536497,
           0.41792040304767364,
           0.3421834062064584
          ],
          [
           0.3837578522883302,
           0.4225907995027808,
           0.44845445532758216,
           0.5044947372307664,
           0.5135200651415216,
           0.3939727317329982,
           0.22641207454892553,
           0.3127129565211293
          ],
          [
           0.5949326896025067,
           0.6331130304526256,
           0.546352888446511,
           0.6899627340383752,
           0.8066935462866123,
           0.6574519605878627,
           0.44068298027795827,
           0.3938236158722822
          ],
          [
           0.39848854582969256,
           0.32014684958336864,
           0.24003958175858325,
           0.25504123598019846,
           0.310781239726928,
           0.3677865075491205,
           0.37209112545916057,
           0.4213011608081526
          ],
          [
           0.42317259827946624,
           0.4101799673769946,
           0.3871623012799474,
           0.3678519552416227,
           0.38719227703283854,
           0.294112144828862,
           0.3081476163059108,
           0.41928534029512676
          ],
          [
           0.36421222229343464,
           0.36469656685641827,
           0.4965662182297986,
           0.5003074725421399,
           0.37409042732073594,
           0.30662125768898907,
           0.3337551725923013,
           0.32969082667889427
          ],
          [
           0.3213106754152037,
           0.24749842377890588,
           0.3038325055705586,
           0.43901744622397204,
           0.3487435451826209,
           0.31170960249295226,
           0.4193367500106758,
           0.38230706840699213
          ],
          [
           0.2598500097971159,
           0.216853426022302,
           0.1884562376799982,
           0.24272236902784824,
           0.2991854363267423,
           0.2554084000531029,
           0.25073107185133153,
           0.32634478062140804
          ],
          [
           0.426419397099913,
           0.3373180211890563,
           0.1989462768420695,
           0.22971909949015143,
           0.3958899930650671,
           0.6270396313780804,
           0.7737027420824667,
           0.7654218069421117
          ],
          [
           0.6437989875207468,
           0.46641974374675405,
           0.4198460868880059,
           0.4151009511347114,
           0.46394872268254517,
           0.4730929560187452,
           0.358741844839616,
           0.2987476458699241
          ],
          [
           0.28083411124569807,
           0.29455439675627554,
           0.3152516704972652,
           0.36942605022661756,
           0.3687067171549494,
           0.36914061378789687,
           0.371111747581105,
           0.3182886388235079
          ],
          [
           0.2924168084137368,
           0.3121485385886367,
           0.24290879466495902,
           0.23257521758064797,
           0.2627339829405638,
           0.20226683869702064,
           0.2055854748101656,
           0.2805739346558054
          ],
          [
           0.26982477674098587,
           0.29966097094430066,
           0.3677960046617389,
           0.28244187420453043,
           0.19590480403168622,
           0.1952349801194827,
           0.386385434638525,
           0.682462694173554
          ],
          [
           0.6898547691876882,
           0.42186153791490033,
           0.21834074283345367,
           0.1444937626575912,
           0.25704260603150003,
           0.4845508755048669,
           0.6105390997295181,
           0.6995325364675831
          ],
          [
           0.7852179531198684,
           0.7183245766861439,
           0.4426533634888017,
           0.1717743398093146,
           0.09964479743055502,
           0.2841231308872758,
           0.6055158687741995,
           0.7079755683520899
          ],
          [
           0.4997601172687186,
           0.28084183771197213,
           0.23551630732889162,
           0.2233420295148563,
           0.27303189641854475,
           0.3916484949057586,
           0.40221847922731835,
           0.41397272309662037
          ],
          [
           0.46679208725035815,
           0.42708862253125046,
           0.38684063675504965,
           0.4485428132357726,
           0.4440672404135416,
           0.41932543805557543,
           0.3578598107295383,
           0.3342154762881441
          ],
          [
           0.4278816579921516,
           0.44362707814937163,
           0.32698133593728146,
           0.1998884233492022,
           0.3329266819893256,
           0.6988743464502567,
           0.9168691178737767,
           0.9520117853244229
          ],
          [
           0.9465111612814741,
           0.8628218020289933,
           0.7005948158194051,
           0.5888077932646467,
           0.5003100801901726,
           0.4283058814305468,
           0.46085944044448235,
           0.44670778057582416
          ],
          [
           0.4161808081372702,
           0.319347345690435,
           0.16416603750347736,
           0.10846543403175107,
           0.12201539749356048,
           0.087949384366994,
           0.09052192185239757,
           0.2721760183840356
          ],
          [
           0.46267078484748336,
           0.3777645430550391,
           0.31356771777394443,
           0.42094368963112483,
           0.41355499243082317,
           0.2661476323804709,
           0.16502442444446122,
           0.20465959698894498
          ],
          [
           0.3086173696681967,
           0.28948651729620406,
           0.2520960533647202,
           0.2586210900415971,
           0.20075011083896183,
           0.2781601109195155,
           0.5015839953771574,
           0.6121327351424986
          ],
          [
           0.5243593937937455,
           0.2782747249493996,
           0.15594471065406493,
           0.2684542744039116,
           0.3811484749885354,
           0.26056099557593726,
           0.11866234636411442,
           0.18518511368595092
          ],
          [
           0.41480829083309595,
           0.5902214352170392,
           0.5314824566117657,
           0.3030203435505446,
           0.20464503790308206,
           0.2525970485852358,
           0.23925731739783343,
           0.19323852183890297
          ],
          [
           0.22586869855041974,
           0.31672216143685383,
           0.3021370624767422,
           0.2745766477067534,
           0.3438835932748663,
           0.3800169244499514,
           0.297224248451294,
           0.18860015585440779
          ],
          [
           0.26431445668546355,
           0.42402074225671366,
           0.34214978163836357,
           0.1784036968121135,
           0.1419704933879671,
           0.19123527475270613,
           0.30277681378333143,
           0.3724230253738367
          ],
          [
           0.40246808343619345,
           0.47008783300837265,
           0.44076532636262705,
           0.3408663377797103,
           0.33143896058803796,
           0.4093989083637344,
           0.4375883498970816,
           0.4521554433591523
          ],
          [
           0.3410949019420939,
           0.3131439204062088,
           0.35475891981604296,
           0.23198325645823467,
           0.18747164790527507,
           0.2785363681138069,
           0.28216235946949164,
           0.30343762571838184
          ],
          [
           0.3617757653596399,
           0.26640800279157695,
           0.2862586507924713,
           0.4188668860313166,
           0.3923285927377937,
           0.36202352215463407,
           0.3909035979900293,
           0.4376782881977037
          ],
          [
           0.3112426198417336,
           0.14879044386318072,
           0.10730122561632685,
           0.1547165056025785,
           0.2728249877185927,
           0.3836436479691177,
           0.37611348179998794,
           0.48854537234550294
          ],
          [
           0.668485742886431,
           0.653277891176764,
           0.5347812829043996,
           0.5307794522704188,
           0.4834533752711876,
           0.38848632431780267,
           0.22635290951851442,
           0.16556330913198108
          ],
          [
           0.2905597092479121,
           0.4695006539886206,
           0.5421929598424672,
           0.45882851465737123,
           0.3375774815678423,
           0.314322554321883,
           0.4009159082330124,
           0.38341207314864234
          ],
          [
           0.3526684785477509,
           0.42192316920412665,
           0.450298268641136,
           0.46380897419255973,
           0.3466330492073248,
           0.1576191584161936,
           0.12142543341854822,
           0.2589606632968853
          ],
          [
           0.46506496816093623,
           0.5595767356514594,
           0.5156151780807183,
           0.531519667593266,
           0.5050465542876172,
           0.4763192037646531,
           0.3516854733613877,
           0.17291828552654004
          ],
          [
           0.13479215687958013,
           0.1862757262992438,
           0.21536443472676484,
           0.25778146870085805,
           0.2675118539400196,
           0.22595603266703967,
           0.31363129675378687,
           0.509371040565336
          ],
          [
           0.5509724558614311,
           0.3868856244542406,
           0.41687900662310595,
           0.5698284800142602,
           0.49324264954301067,
           0.3355837477887583,
           0.3283898386548896,
           0.3971300734082789
          ],
          [
           0.3388896253659278,
           0.329173904565299,
           0.3407868938975428,
           0.3428847197806302,
           0.41303031212013464,
           0.3849026989100688,
           0.3424525710185353,
           0.3502527012057099
          ],
          [
           0.2115730615646926,
           0.10072118292142902,
           0.1894970383913181,
           0.4094664843846091,
           0.5751099826207768,
           0.5294205713735294,
           0.3689749289421681,
           0.30000812069641175
          ],
          [
           0.2640390339041494,
           0.2619944749993819,
           0.3078389275638069,
           0.3726972112431525,
           0.3178736562540474,
           0.3196909043223225,
           0.36633696026490414,
           0.2594440943267264
          ],
          [
           0.2911466902296659,
           0.4591487460899327,
           0.48616745348661655,
           0.44944907503680587,
           0.3127742789327596,
           0.21091296127929327,
           0.20679503336398497,
           0.24385880728014278
          ],
          [
           0.25737994572850925,
           0.28283599814642,
           0.31141934828084145,
           0.3323954581873474,
           0.22040980975293611,
           0.1324588217847534,
           0.19374023089834447,
           0.32085442167482653
          ],
          [
           0.30499021812906874,
           0.19073618467567044,
           0.2730765915224936,
           0.4470177296806058,
           0.3773105482779872,
           0.30092956795850356,
           0.37781164375024573,
           0.4233739989628684
          ],
          [
           0.4485900182609769,
           0.5046651235888051,
           0.517691235733835,
           0.4368862932194083,
           0.37674476402226664,
           0.39380716326547455,
           0.3390605481519119,
           0.38032595070843683
          ],
          [
           0.44924089977910275,
           0.4289925959918517,
           0.4468742299387547,
           0.46223780474854415,
           0.46307157145202454,
           0.3231230827092901,
           0.3110429272587618,
           0.4344158319096727
          ],
          [
           0.37127203094804756,
           0.27098730945913896,
           0.2852799754525363,
           0.30558099279954404,
           0.323875587640885,
           0.22967986468297263,
           0.10422367365257496,
           0.0935094114989467
          ],
          [
           0.24853033482077555,
           0.4084854408691789,
           0.32876572905920903,
           0.19245436600019789,
           0.22469052987678753,
           0.284860475402719,
           0.19336380805539322,
           0.16969019838184207
          ],
          [
           0.2725867129226059,
           0.28922849019252267,
           0.27086091288702424,
           0.340352336234431,
           0.3579622110992162,
           0.3083432499576011,
           0.33569510657214247,
           0.43811711263700753
          ],
          [
           0.46632478741384975,
           0.5174866800517482,
           0.4224153247354151,
           0.22042139397295907,
           0.16043044427243042,
           0.2568697838905596,
           0.45969941418231297,
           0.6116754081212643
          ],
          [
           0.5416374188497022,
           0.34775032263446876,
           0.2633105865558662,
           0.28238701736331306,
           0.3768980445975465,
           0.46201229609639305,
           0.4786863882973979,
           0.36041477237913555
          ],
          [
           0.39859512794205654,
           0.5110873234794616,
           0.42844433625460454,
           0.32137578885057017,
           0.21883571851949246,
           0.23476439468599286,
           0.41437548424074766,
           0.5336640191359082
          ],
          [
           0.4368844313269311,
           0.2758304563040339,
           0.27959968065738355,
           0.3429402024168554,
           0.28910090947650285,
           0.16709198496203145,
           0.16979074391003174,
           0.37444597164772353
          ],
          [
           0.6552098815419634,
           0.6931266666500513,
           0.5530135113832544,
           0.5006207121976227,
           0.45059781679570315,
           0.436386939661371,
           0.4227519611997507,
           0.4382629832401313
          ],
          [
           0.3831815355234393,
           0.32670432824701684,
           0.32687986955023535,
           0.5073428227559073,
           0.7320642647783324,
           0.7971381498330032,
           0.6875919845310329,
           0.5502349493053619
          ],
          [
           0.5581613186443855,
           0.44606605379711906,
           0.3153677908259073,
           0.32184144353693533,
           0.2866968318760823,
           0.2772780063428849,
           0.26101931766387715,
           0.16719674442537708
          ],
          [
           0.18309875971895032,
           0.32178399010697234,
           0.3319461239245236,
           0.21460245279822138,
           0.17370633022971546,
           0.1744632643233586,
           0.18999593354919106,
           0.22301844366096096
          ],
          [
           0.21322880073984826,
           0.26303546949305256,
           0.388592997736709,
           0.43525688962243136,
           0.28571524168850587,
           0.3084222410313059,
           0.5895009343596298,
           0.7388784576131915
          ],
          [
           0.6447370549063337,
           0.432589763959216,
           0.27163600044001146,
           0.23153788999492106,
           0.22179218122194244,
           0.3087829094959839,
           0.4102858399974305,
           0.42651192781851155
          ],
          [
           0.40421991393743256,
           0.29050051757494977,
           0.18200194840575293,
           0.11476980791503125,
           0.17074060158318735,
           0.3421840655459888,
           0.4092146242760041,
           0.3952308743352139
          ],
          [
           0.4082675489273303,
           0.31193751328604946,
           0.335304570087967,
           0.47756833125027043,
           0.44989207264700715,
           0.3199973071242251,
           0.2657480679889029,
           0.27077162688567535
          ],
          [
           0.15254667800779953,
           0.03370092169105113,
           0.0027620446156739705,
           8.340296957610846e-05,
           0,
           0,
           0,
           0
          ]
         ],
         "zmax": 1,
         "zmin": 0
        }
       ],
       "layout": {
        "font": {
         "family": "Courier New"
        },
        "height": 2352,
        "template": {
         "data": {
          "bar": [
           {
            "error_x": {
             "color": "#2a3f5f"
            },
            "error_y": {
             "color": "#2a3f5f"
            },
            "marker": {
             "line": {
              "color": "#E5ECF6",
              "width": 0.5
             },
             "pattern": {
              "fillmode": "overlay",
              "size": 10,
              "solidity": 0.2
             }
            },
            "type": "bar"
           }
          ],
          "barpolar": [
           {
            "marker": {
             "line": {
              "color": "#E5ECF6",
              "width": 0.5
             },
             "pattern": {
              "fillmode": "overlay",
              "size": 10,
              "solidity": 0.2
             }
            },
            "type": "barpolar"
           }
          ],
          "carpet": [
           {
            "aaxis": {
             "endlinecolor": "#2a3f5f",
             "gridcolor": "white",
             "linecolor": "white",
             "minorgridcolor": "white",
             "startlinecolor": "#2a3f5f"
            },
            "baxis": {
             "endlinecolor": "#2a3f5f",
             "gridcolor": "white",
             "linecolor": "white",
             "minorgridcolor": "white",
             "startlinecolor": "#2a3f5f"
            },
            "type": "carpet"
           }
          ],
          "choropleth": [
           {
            "colorbar": {
             "outlinewidth": 0,
             "ticks": ""
            },
            "type": "choropleth"
           }
          ],
          "contour": [
           {
            "colorbar": {
             "outlinewidth": 0,
             "ticks": ""
            },
            "colorscale": [
             [
              0,
              "#0d0887"
             ],
             [
              0.1111111111111111,
              "#46039f"
             ],
             [
              0.2222222222222222,
              "#7201a8"
             ],
             [
              0.3333333333333333,
              "#9c179e"
             ],
             [
              0.4444444444444444,
              "#bd3786"
             ],
             [
              0.5555555555555556,
              "#d8576b"
             ],
             [
              0.6666666666666666,
              "#ed7953"
             ],
             [
              0.7777777777777778,
              "#fb9f3a"
             ],
             [
              0.8888888888888888,
              "#fdca26"
             ],
             [
              1,
              "#f0f921"
             ]
            ],
            "type": "contour"
           }
          ],
          "contourcarpet": [
           {
            "colorbar": {
             "outlinewidth": 0,
             "ticks": ""
            },
            "type": "contourcarpet"
           }
          ],
          "heatmap": [
           {
            "colorbar": {
             "outlinewidth": 0,
             "ticks": ""
            },
            "colorscale": [
             [
              0,
              "#0d0887"
             ],
             [
              0.1111111111111111,
              "#46039f"
             ],
             [
              0.2222222222222222,
              "#7201a8"
             ],
             [
              0.3333333333333333,
              "#9c179e"
             ],
             [
              0.4444444444444444,
              "#bd3786"
             ],
             [
              0.5555555555555556,
              "#d8576b"
             ],
             [
              0.6666666666666666,
              "#ed7953"
             ],
             [
              0.7777777777777778,
              "#fb9f3a"
             ],
             [
              0.8888888888888888,
              "#fdca26"
             ],
             [
              1,
              "#f0f921"
             ]
            ],
            "type": "heatmap"
           }
          ],
          "heatmapgl": [
           {
            "colorbar": {
             "outlinewidth": 0,
             "ticks": ""
            },
            "colorscale": [
             [
              0,
              "#0d0887"
             ],
             [
              0.1111111111111111,
              "#46039f"
             ],
             [
              0.2222222222222222,
              "#7201a8"
             ],
             [
              0.3333333333333333,
              "#9c179e"
             ],
             [
              0.4444444444444444,
              "#bd3786"
             ],
             [
              0.5555555555555556,
              "#d8576b"
             ],
             [
              0.6666666666666666,
              "#ed7953"
             ],
             [
              0.7777777777777778,
              "#fb9f3a"
             ],
             [
              0.8888888888888888,
              "#fdca26"
             ],
             [
              1,
              "#f0f921"
             ]
            ],
            "type": "heatmapgl"
           }
          ],
          "histogram": [
           {
            "marker": {
             "pattern": {
              "fillmode": "overlay",
              "size": 10,
              "solidity": 0.2
             }
            },
            "type": "histogram"
           }
          ],
          "histogram2d": [
           {
            "colorbar": {
             "outlinewidth": 0,
             "ticks": ""
            },
            "colorscale": [
             [
              0,
              "#0d0887"
             ],
             [
              0.1111111111111111,
              "#46039f"
             ],
             [
              0.2222222222222222,
              "#7201a8"
             ],
             [
              0.3333333333333333,
              "#9c179e"
             ],
             [
              0.4444444444444444,
              "#bd3786"
             ],
             [
              0.5555555555555556,
              "#d8576b"
             ],
             [
              0.6666666666666666,
              "#ed7953"
             ],
             [
              0.7777777777777778,
              "#fb9f3a"
             ],
             [
              0.8888888888888888,
              "#fdca26"
             ],
             [
              1,
              "#f0f921"
             ]
            ],
            "type": "histogram2d"
           }
          ],
          "histogram2dcontour": [
           {
            "colorbar": {
             "outlinewidth": 0,
             "ticks": ""
            },
            "colorscale": [
             [
              0,
              "#0d0887"
             ],
             [
              0.1111111111111111,
              "#46039f"
             ],
             [
              0.2222222222222222,
              "#7201a8"
             ],
             [
              0.3333333333333333,
              "#9c179e"
             ],
             [
              0.4444444444444444,
              "#bd3786"
             ],
             [
              0.5555555555555556,
              "#d8576b"
             ],
             [
              0.6666666666666666,
              "#ed7953"
             ],
             [
              0.7777777777777778,
              "#fb9f3a"
             ],
             [
              0.8888888888888888,
              "#fdca26"
             ],
             [
              1,
              "#f0f921"
             ]
            ],
            "type": "histogram2dcontour"
           }
          ],
          "mesh3d": [
           {
            "colorbar": {
             "outlinewidth": 0,
             "ticks": ""
            },
            "type": "mesh3d"
           }
          ],
          "parcoords": [
           {
            "line": {
             "colorbar": {
              "outlinewidth": 0,
              "ticks": ""
             }
            },
            "type": "parcoords"
           }
          ],
          "pie": [
           {
            "automargin": true,
            "type": "pie"
           }
          ],
          "scatter": [
           {
            "fillpattern": {
             "fillmode": "overlay",
             "size": 10,
             "solidity": 0.2
            },
            "type": "scatter"
           }
          ],
          "scatter3d": [
           {
            "line": {
             "colorbar": {
              "outlinewidth": 0,
              "ticks": ""
             }
            },
            "marker": {
             "colorbar": {
              "outlinewidth": 0,
              "ticks": ""
             }
            },
            "type": "scatter3d"
           }
          ],
          "scattercarpet": [
           {
            "marker": {
             "colorbar": {
              "outlinewidth": 0,
              "ticks": ""
             }
            },
            "type": "scattercarpet"
           }
          ],
          "scattergeo": [
           {
            "marker": {
             "colorbar": {
              "outlinewidth": 0,
              "ticks": ""
             }
            },
            "type": "scattergeo"
           }
          ],
          "scattergl": [
           {
            "marker": {
             "colorbar": {
              "outlinewidth": 0,
              "ticks": ""
             }
            },
            "type": "scattergl"
           }
          ],
          "scattermapbox": [
           {
            "marker": {
             "colorbar": {
              "outlinewidth": 0,
              "ticks": ""
             }
            },
            "type": "scattermapbox"
           }
          ],
          "scatterpolar": [
           {
            "marker": {
             "colorbar": {
              "outlinewidth": 0,
              "ticks": ""
             }
            },
            "type": "scatterpolar"
           }
          ],
          "scatterpolargl": [
           {
            "marker": {
             "colorbar": {
              "outlinewidth": 0,
              "ticks": ""
             }
            },
            "type": "scatterpolargl"
           }
          ],
          "scatterternary": [
           {
            "marker": {
             "colorbar": {
              "outlinewidth": 0,
              "ticks": ""
             }
            },
            "type": "scatterternary"
           }
          ],
          "surface": [
           {
            "colorbar": {
             "outlinewidth": 0,
             "ticks": ""
            },
            "colorscale": [
             [
              0,
              "#0d0887"
             ],
             [
              0.1111111111111111,
              "#46039f"
             ],
             [
              0.2222222222222222,
              "#7201a8"
             ],
             [
              0.3333333333333333,
              "#9c179e"
             ],
             [
              0.4444444444444444,
              "#bd3786"
             ],
             [
              0.5555555555555556,
              "#d8576b"
             ],
             [
              0.6666666666666666,
              "#ed7953"
             ],
             [
              0.7777777777777778,
              "#fb9f3a"
             ],
             [
              0.8888888888888888,
              "#fdca26"
             ],
             [
              1,
              "#f0f921"
             ]
            ],
            "type": "surface"
           }
          ],
          "table": [
           {
            "cells": {
             "fill": {
              "color": "#EBF0F8"
             },
             "line": {
              "color": "white"
             }
            },
            "header": {
             "fill": {
              "color": "#C8D4E3"
             },
             "line": {
              "color": "white"
             }
            },
            "type": "table"
           }
          ]
         },
         "layout": {
          "annotationdefaults": {
           "arrowcolor": "#2a3f5f",
           "arrowhead": 0,
           "arrowwidth": 1
          },
          "autotypenumbers": "strict",
          "coloraxis": {
           "colorbar": {
            "outlinewidth": 0,
            "ticks": ""
           }
          },
          "colorscale": {
           "diverging": [
            [
             0,
             "#8e0152"
            ],
            [
             0.1,
             "#c51b7d"
            ],
            [
             0.2,
             "#de77ae"
            ],
            [
             0.3,
             "#f1b6da"
            ],
            [
             0.4,
             "#fde0ef"
            ],
            [
             0.5,
             "#f7f7f7"
            ],
            [
             0.6,
             "#e6f5d0"
            ],
            [
             0.7,
             "#b8e186"
            ],
            [
             0.8,
             "#7fbc41"
            ],
            [
             0.9,
             "#4d9221"
            ],
            [
             1,
             "#276419"
            ]
           ],
           "sequential": [
            [
             0,
             "#0d0887"
            ],
            [
             0.1111111111111111,
             "#46039f"
            ],
            [
             0.2222222222222222,
             "#7201a8"
            ],
            [
             0.3333333333333333,
             "#9c179e"
            ],
            [
             0.4444444444444444,
             "#bd3786"
            ],
            [
             0.5555555555555556,
             "#d8576b"
            ],
            [
             0.6666666666666666,
             "#ed7953"
            ],
            [
             0.7777777777777778,
             "#fb9f3a"
            ],
            [
             0.8888888888888888,
             "#fdca26"
            ],
            [
             1,
             "#f0f921"
            ]
           ],
           "sequentialminus": [
            [
             0,
             "#0d0887"
            ],
            [
             0.1111111111111111,
             "#46039f"
            ],
            [
             0.2222222222222222,
             "#7201a8"
            ],
            [
             0.3333333333333333,
             "#9c179e"
            ],
            [
             0.4444444444444444,
             "#bd3786"
            ],
            [
             0.5555555555555556,
             "#d8576b"
            ],
            [
             0.6666666666666666,
             "#ed7953"
            ],
            [
             0.7777777777777778,
             "#fb9f3a"
            ],
            [
             0.8888888888888888,
             "#fdca26"
            ],
            [
             1,
             "#f0f921"
            ]
           ]
          },
          "colorway": [
           "#636efa",
           "#EF553B",
           "#00cc96",
           "#ab63fa",
           "#FFA15A",
           "#19d3f3",
           "#FF6692",
           "#B6E880",
           "#FF97FF",
           "#FECB52"
          ],
          "font": {
           "color": "#2a3f5f"
          },
          "geo": {
           "bgcolor": "white",
           "lakecolor": "white",
           "landcolor": "#E5ECF6",
           "showlakes": true,
           "showland": true,
           "subunitcolor": "white"
          },
          "hoverlabel": {
           "align": "left"
          },
          "hovermode": "closest",
          "mapbox": {
           "style": "light"
          },
          "paper_bgcolor": "white",
          "plot_bgcolor": "#E5ECF6",
          "polar": {
           "angularaxis": {
            "gridcolor": "white",
            "linecolor": "white",
            "ticks": ""
           },
           "bgcolor": "#E5ECF6",
           "radialaxis": {
            "gridcolor": "white",
            "linecolor": "white",
            "ticks": ""
           }
          },
          "scene": {
           "xaxis": {
            "backgroundcolor": "#E5ECF6",
            "gridcolor": "white",
            "gridwidth": 2,
            "linecolor": "white",
            "showbackground": true,
            "ticks": "",
            "zerolinecolor": "white"
           },
           "yaxis": {
            "backgroundcolor": "#E5ECF6",
            "gridcolor": "white",
            "gridwidth": 2,
            "linecolor": "white",
            "showbackground": true,
            "ticks": "",
            "zerolinecolor": "white"
           },
           "zaxis": {
            "backgroundcolor": "#E5ECF6",
            "gridcolor": "white",
            "gridwidth": 2,
            "linecolor": "white",
            "showbackground": true,
            "ticks": "",
            "zerolinecolor": "white"
           }
          },
          "shapedefaults": {
           "line": {
            "color": "#2a3f5f"
           }
          },
          "ternary": {
           "aaxis": {
            "gridcolor": "white",
            "linecolor": "white",
            "ticks": ""
           },
           "baxis": {
            "gridcolor": "white",
            "linecolor": "white",
            "ticks": ""
           },
           "bgcolor": "#E5ECF6",
           "caxis": {
            "gridcolor": "white",
            "linecolor": "white",
            "ticks": ""
           }
          },
          "title": {
           "x": 0.05
          },
          "xaxis": {
           "automargin": true,
           "gridcolor": "white",
           "linecolor": "white",
           "ticks": "",
           "title": {
            "standoff": 15
           },
           "zerolinecolor": "white",
           "zerolinewidth": 2
          },
          "yaxis": {
           "automargin": true,
           "gridcolor": "white",
           "linecolor": "white",
           "ticks": "",
           "title": {
            "standoff": 15
           },
           "zerolinecolor": "white",
           "zerolinewidth": 2
          }
         }
        },
        "width": 1000,
        "xaxis": {
         "autorange": true,
         "range": [
          -0.5,
          7.5
         ]
        },
        "yaxis": {
         "autorange": true,
         "range": [
          82.5,
          -0.5
         ],
         "type": "category"
        }
       }
      },
      "image/png": "[encoded data removed]",
      "text/html": [
       "<div>                            <div id=\"08ca1f0d-4f6a-4bec-a4cc-599c840d0733\" class=\"plotly-graph-div\" style=\"height:2352px; width:1000px;\"></div>            <script type=\"text/javascript\">                require([\"plotly\"], function(Plotly) {                    window.PLOTLYENV=window.PLOTLYENV || {};                                    if (document.getElementById(\"08ca1f0d-4f6a-4bec-a4cc-599c840d0733\")) {                    Plotly.newPlot(                        \"08ca1f0d-4f6a-4bec-a4cc-599c840d0733\",                        [{\"colorscale\":[[0.0,\"rgb(255, 198, 196)\"],[0.16666666666666666,\"rgb(244, 163, 168)\"],[0.3333333333333333,\"rgb(227, 129, 145)\"],[0.5,\"rgb(204, 96, 125)\"],[0.6666666666666666,\"rgb(173, 70, 108)\"],[0.8333333333333334,\"rgb(139, 48, 88)\"],[1.0,\"rgb(103, 32, 68)\"]],\"customdata\":[[\"y\",\"nueva\",\"econom\\u00eda\",\"tp\",\"n\\u00ba1\",\"wikinomics\",\"curso\",\"k5071\"],[\"legajo\",\"138.694-3\",\"alumno\",\"jourdan\",\"martin\",\"fecha\",\"de\",\"entrega\"],[\"05/09/2016\",\"1.-\",\"desarrolle\",\"el\",\"concepto\",\"producci\\u00f3n\",\"entre\",\"iguales\"],[\"el\",\"concepto\",\"producci\\u00f3n\",\"entre\",\"iguales\",\"se\",\"relaciona\",\"con\"],[\"lo\",\"que\",\"sucede\",\"cuando\",\"tanto\",\"personas\",\"como\",\"empresas\"],[\"colaboran\",\"abiertamente\",\"con\",\"el\",\"objetivo\",\"de\",\"potenciar\",\"la\"],[\"innovaci\\u00f3n\",\"y\",\"el\",\"crecimiento\",\"en\",\"sus\",\"sectores\",\"esto\"],[\"es\",\"facilitado\",\"por\",\"la\",\"gran\",\"accesibilidad\",\"a\",\"la\"],[\"tecnolog\\u00eda\",\"con\",\"la\",\"que\",\"se\",\"cuenta\",\"2.-\",\"enuncie\"],[\"y\",\"desarrolle\",\"las\",\"4\",\"ideas\",\"o\",\"componentes\",\"en\"],[\"las\",\"que\",\"se\",\"basa\",\"la\",\"wikinom\\u00eda\",\"d\\u00e9\",\"un\"],[\"ejemplo\",\"de\",\"cada\",\"una\",\"apertura\",\"poseer\",\"la\",\"flexibilidad\"],[\"para\",\"colaborar\",\"entre\",\"empresas\",\"ejemplo\",\"base\",\"de\",\"datos\"],[\"mysql\",\"para\",\"las\",\"bd\",\"linux\",\"para\",\"los\",\"so\"],[\"interacci\\u00f3n\",\"entre\",\"iguales\",\"forma\",\"de\",\"organizaci\\u00f3n\",\"horizontal\",\"no\"],[\"jer\\u00e1rquica\",\"donde\",\"se\",\"dise\\u00f1a\",\"bienes\",\"o\",\"servicios\",\"se\"],[\"crea\",\"conocimiento\",\"o\",\"sencillamente\",\"se\",\"produce\",\"experiencias\",\"din\\u00e1micas\"],[\"y\",\"compartidas\",\"potencia\",\"el\",\"auto\",\"organizaci\\u00f3n\",\"ejemplo\",\"linux\"],[\"wikipedia\",\"etc\",\"que\",\"poseen\",\"un\",\"contenido\",\"que\",\"permite\"],[\"la\",\"interacci\\u00f3n\",\"entre\",\"iguales\",\"todos\",\"pudiendo\",\"tener\",\"acceso\"],[\"a\",\"leer\",\"y\",\"editar\",\"su\",\"contenido\",\"compartir\",\"expresa\"],[\"la\",\"idea\",\"de\",\"dejar\",\"atr\\u00e1s\",\"todas\",\"las\",\"restricciones\"],[\"y\",\"propiedades\",\"sobre\",\"cosas\",\"como\",\"el\",\"conocimiento\",\"y\"],[\"en\",\"su\",\"lugar\",\"compartirlas\",\"libremente\",\"tambi\\u00e9n\",\"se\",\"refiere\"],[\"a\",\"compartir\",\"otros\",\"recursos\",\"capacidad\",\"inform\\u00e1tica\",\"ancho\",\"de\"],[\"banda\",\"contenido\",\"todo\",\"programa\",\"open\",\"source\",\"es\",\"ejemplo\"],[\"de\",\"esto\",\"en\",\"vez\",\"de\",\"cerrarse\",\"en\",\"proteger\"],[\"su\",\"c\\u00f3digo\",\"lo\",\"comparten\",\"para\",\"enriquecerlo\",\"ejemplo\",\"skype\"],[\"actuaci\\u00f3n\",\"global\",\"utilizar\",\"la\",\"globalizaci\\u00f3n\",\"y\",\"el\",\"avance\"],[\"de\",\"los\",\"nuevos\",\"mercados\",\"ideas\",\"y\",\"tecnolog\\u00edas\",\"para\"],[\"ampliarse\",\"y\",\"poder\",\"competir\",\"en\",\"el\",\"mundo\",\"empresarial\"],[\"no\",\"contar\",\"con\",\"fronteras\",\"f\\u00edsicas\",\"ni\",\"regionales\",\"ejemplo\"],[\"facebook\",\"3.-\",\"explique\",\"y\",\"d\\u00e9\",\"ejemplos\",\"de\",\"la\"],[\"emergencia\",\"como\",\"consecuencia\",\"de\",\"la\",\"colaboraci\\u00f3n\",\"masiva\",\"emergencia\"],[\"se\",\"refiere\",\"al\",\"surgimiento\",\"de\",\"nuevas\",\"estructuras\",\"atributos\"],[\"y\",\"capacidades\",\"que\",\"no\",\"pertenecen\",\"a\",\"un\",\"nodo\"],[\"de\",\"la\",\"red\",\"por\",\"s\\u00ed\",\"solo\",\"sino\",\"a\"],[\"todo\",\"en\",\"su\",\"conjunto\",\"el\",\"valor\",\"surge\",\"de\"],[\"la\",\"red\",\"conectada\",\"y\",\"no\",\"de\",\"los\",\"nodos\"],[\"separados\",\"ejemplos\",\"google\",\"amazon\",\"el\",\"software\",\"libre\",\"4.-\"],[\"\\u00bfqu\\u00e9\",\"enunciaba\",\"la\",\"ley\",\"de\",\"coase\",\"originalmente\",\"y\"],[\"ahora\",\"\\u00bfqu\\u00e9\",\"implicancias\",\"tiene\",\"explique\",\"qu\\u00e9\",\"y\",\"cu\\u00e1les\"],[\"son\",\"los\",\"costos\",\"de\",\"transacci\\u00f3n\",\"la\",\"ley\",\"de\"],[\"coase\",\"establece\",\"que\",\"en\",\"caso\",\"de\",\"ser\",\"m\\u00e1s\"],[\"barato\",\"realizar\",\"una\",\"transacci\\u00f3n\",\"dentro\",\"de\",\"la\",\"empresa\"],[\"conviene\",\"realizarlo\",\"de\",\"esa\",\"manera\",\"pero\",\"en\",\"el\"],[\"caso\",\"en\",\"que\",\"los\",\"costes\",\"de\",\"esta\",\"misma\"],[\"transacci\\u00f3n\",\"en\",\"el\",\"mercado\",\"y\",\"fuera\",\"de\",\"la\"],[\"empresa\",\"fueran\",\"menores\",\"no\",\"conviene\",\"intentar\",\"hacerlo\",\"de\"],[\"forma\",\"interna\",\"actualmente\",\"internet\",\"hizo\",\"que\",\"los\",\"costes\"],[\"de\",\"transacci\\u00f3n\",\"decaigan\",\"entonces\",\"la\",\"ley\",\"se\",\"lee\"],[\"a\",\"la\",\"inversa\",\"la\",\"empresa\",\"debe\",\"realizar\",\"la\"],[\"transacci\\u00f3n\",\"en\",\"forma\",\"externa\",\"hasta\",\"que\",\"la\",\"realizaci\\u00f3n\"],[\"de\",\"la\",\"misma\",\"tenga\",\"un\",\"coste\",\"menor\",\"en\"],[\"forma\",\"interna\",\"los\",\"costos\",\"de\",\"transacci\\u00f3n\",\"son\",\"los\"],[\"costos\",\"de\",\"b\\u00fasqueda\",\"localizar\",\"comparar\",\"y\",\"elegir\",\"proveedores\"],[\"los\",\"costos\",\"de\",\"contrataci\\u00f3n\",\"negociar\",\"el\",\"precio\",\"y\"],[\"las\",\"condiciones\",\"los\",\"costos\",\"de\",\"coordinaci\\u00f3n\",\"encajar\",\"los\"],[\"productos\",\"y\",\"procesos\",\"5.-\",\"\\u00bfqu\\u00e9\",\"elementos\",\"favorecen\",\"la\"],[\"producci\\u00f3n\",\"colaborativa\",\"la\",\"producci\\u00f3n\",\"colaborativa\",\"favorece\",\"los\",\"siguientes\"],[\"elementos\",\"combina\",\"jerarqu\\u00eda\",\"y\",\"auto\",\"organizaci\\u00f3n\",\"los\",\"miembros\"],[\"con\",\"m\\u00e1s\",\"experiencia\",\"asumen\",\"el\",\"liderazgo\",\"y\",\"ayudan\"],[\"a\",\"integrar\",\"los\",\"aportes\",\"de\",\"la\",\"comunidad\",\"las\"],[\"actividades\",\"productivas\",\"son\",\"voluntarias\",\"las\",\"personas\",\"pueden\",\"colaborar\"],[\"y\",\"compartir\",\"sus\",\"creaciones\",\"por\",\"un\",\"costo\",\"muy\"],[\"reducido\",\"las\",\"actividades\",\"productivas\",\"carecen\",\"de\",\"beneficios\",\"monetarios\"],[\"6.-\",\"\\u00bfqu\\u00e9\",\"rol\",\"juega\",\"la\",\"autoselecci\\u00f3n\",\"en\",\"la\"],[\"producci\\u00f3n\",\"entre\",\"pares\",\"la\",\"autoselecci\\u00f3n\",\"es\",\"la\",\"motivaci\\u00f3n\"],[\"voluntaria\",\"para\",\"realizar\",\"una\",\"tarea\",\"de\",\"la\",\"que\"],[\"nos\",\"sentimos\",\"capaces\",\"con\",\"los\",\"conocimientos\",\"o\",\"la\"],[\"creatividad\",\"necesaria\",\"para\",\"hacerla\",\"nosotros\",\"mismos\",\"nos\",\"asignamos\"],[\"una\",\"tarea\",\"mucho\",\"mejor\",\"que\",\"si\",\"un\",\"superior\"],[\"tuviera\",\"que\",\"hacerlo\",\"adem\\u00e1s\",\"sin\",\"la\",\"producci\\u00f3n\",\"colaborativa\"],[\"la\",\"cantidad\",\"de\",\"recursos\",\"que\",\"pueden\",\"cumplir\",\"cada\"],[\"tarea\",\"es\",\"limitada\",\"7.-\",\"\\u00bfbajo\",\"qu\\u00e9\",\"3\",\"condiciones\"],[\"se\",\"favorece\",\"la\",\"producci\\u00f3n\",\"entre\",\"iguales\",\"lo\",\"que\"],[\"se\",\"debe\",\"producir\",\"es\",\"informaci\\u00f3n\",\"o\",\"cultura\",\"las\"],[\"tareas\",\"deben\",\"poder\",\"descomponerse\",\"en\",\"trabajos\",\"peque\\u00f1os\",\"que\"],[\"no\",\"impliquen\",\"mucho\",\"tiempo\",\"y\",\"esfuerzo\",\"lo\",\"que\"],[\"hace\",\"que\",\"la\",\"inversi\\u00f3n\",\"en\",\"tiempo\",\"y\",\"energ\\u00eda\"],[\"sea\",\"poca\",\"en\",\"comparaci\\u00f3n\",\"con\",\"los\",\"beneficios\",\"que\"],[\"obtiene\",\"el\",\"colaborador\",\"el\",\"costo\",\"de\",\"combinar\",\"estas\"],[\"descomposiciones\",\"de\",\"la\",\"tarea\",\"tambi\\u00e9n\",\"deben\",\"ser\",\"bajos\",\"\",\"\",\"\",\"\",\"\",\"\",\"\",\"\"]],\"dx\":1,\"hovertemplate\":\"%{customdata} <br><b>Score:%{z:.3f}<extra></extra>\",\"x0\":0,\"y\":[\"y nueva econom\\u00eda tp n\\u00ba1 wikinomics curso k5071              \",\"legajo 138.694-3 alumno jourdan martin fecha de entrega     \",\"05/09/2016 1.- desarrolle el concepto producci\\u00f3n entre igual\",\"el concepto producci\\u00f3n entre iguales se relaciona con       \",\"lo que sucede cuando tanto personas como empresas           \",\"colaboran abiertamente con el objetivo de potenciar la      \",\"innovaci\\u00f3n y el crecimiento en sus sectores esto            \",\"es facilitado por la gran accesibilidad a la                \",\"tecnolog\\u00eda con la que se cuenta 2.- enuncie                 \",\"y desarrolle las 4 ideas o componentes en                   \",\"las que se basa la wikinom\\u00eda d\\u00e9 un                          \",\"ejemplo de cada una apertura poseer la flexibilidad         \",\"para colaborar entre empresas ejemplo base de datos         \",\"mysql para las bd linux para los so                         \",\"interacci\\u00f3n entre iguales forma de organizaci\\u00f3n horizontal n\",\"jer\\u00e1rquica donde se dise\\u00f1a bienes o servicios se            \",\"crea conocimiento o sencillamente se produce experiencias di\",\"y compartidas potencia el auto organizaci\\u00f3n ejemplo linux   \",\"wikipedia etc que poseen un contenido que permite           \",\"la interacci\\u00f3n entre iguales todos pudiendo tener acceso    \",\"a leer y editar su contenido compartir expresa              \",\"la idea de dejar atr\\u00e1s todas las restricciones              \",\"y propiedades sobre cosas como el conocimiento y            \",\"en su lugar compartirlas libremente tambi\\u00e9n se refiere      \",\"a compartir otros recursos capacidad inform\\u00e1tica ancho de   \",\"banda contenido todo programa open source es ejemplo        \",\"de esto en vez de cerrarse en proteger                      \",\"su c\\u00f3digo lo comparten para enriquecerlo ejemplo skype      \",\"actuaci\\u00f3n global utilizar la globalizaci\\u00f3n y el avance      \",\"de los nuevos mercados ideas y tecnolog\\u00edas para             \",\"ampliarse y poder competir en el mundo empresarial          \",\"no contar con fronteras f\\u00edsicas ni regionales ejemplo       \",\"facebook 3.- explique y d\\u00e9 ejemplos de la                   \",\"emergencia como consecuencia de la colaboraci\\u00f3n masiva emerg\",\"se refiere al surgimiento de nuevas estructuras atributos   \",\"y capacidades que no pertenecen a un nodo                   \",\"de la red por s\\u00ed solo sino a                                \",\"todo en su conjunto el valor surge de                       \",\"la red conectada y no de los nodos                          \",\"separados ejemplos google amazon el software libre 4.-      \",\"\\u00bfqu\\u00e9 enunciaba la ley de coase originalmente y              \",\"ahora \\u00bfqu\\u00e9 implicancias tiene explique qu\\u00e9 y cu\\u00e1les         \",\"son los costos de transacci\\u00f3n la ley de                     \",\"coase establece que en caso de ser m\\u00e1s                      \",\"barato realizar una transacci\\u00f3n dentro de la empresa        \",\"conviene realizarlo de esa manera pero en el                \",\"caso en que los costes de esta misma                        \",\"transacci\\u00f3n en el mercado y fuera de la                     \",\"empresa fueran menores no conviene intentar hacerlo de      \",\"forma interna actualmente internet hizo que los costes      \",\"de transacci\\u00f3n decaigan entonces la ley se lee              \",\"a la inversa la empresa debe realizar la                    \",\"transacci\\u00f3n en forma externa hasta que la realizaci\\u00f3n       \",\"de la misma tenga un coste menor en                         \",\"forma interna los costos de transacci\\u00f3n son los             \",\"costos de b\\u00fasqueda localizar comparar y elegir proveedores  \",\"los costos de contrataci\\u00f3n negociar el precio y             \",\"las condiciones los costos de coordinaci\\u00f3n encajar los      \",\"productos y procesos 5.- \\u00bfqu\\u00e9 elementos favorecen la        \",\"producci\\u00f3n colaborativa la producci\\u00f3n colaborativa favorece \",\"elementos combina jerarqu\\u00eda y auto organizaci\\u00f3n los miembros\",\"con m\\u00e1s experiencia asumen el liderazgo y ayudan            \",\"a integrar los aportes de la comunidad las                  \",\"actividades productivas son voluntarias las personas pueden \",\"y compartir sus creaciones por un costo muy                 \",\"reducido las actividades productivas carecen de beneficios m\",\"6.- \\u00bfqu\\u00e9 rol juega la autoselecci\\u00f3n en la                   \",\"producci\\u00f3n entre pares la autoselecci\\u00f3n es la motivaci\\u00f3n    \",\"voluntaria para realizar una tarea de la que                \",\"nos sentimos capaces con los conocimientos o la             \",\"creatividad necesaria para hacerla nosotros mismos nos asign\",\"una tarea mucho mejor que si un superior                    \",\"tuviera que hacerlo adem\\u00e1s sin la producci\\u00f3n colaborativa   \",\"la cantidad de recursos que pueden cumplir cada             \",\"tarea es limitada 7.- \\u00bfbajo qu\\u00e9 3 condiciones               \",\"se favorece la producci\\u00f3n entre iguales lo que              \",\"se debe producir es informaci\\u00f3n o cultura las               \",\"tareas deben poder descomponerse en trabajos peque\\u00f1os que   \",\"no impliquen mucho tiempo y esfuerzo lo que                 \",\"hace que la inversi\\u00f3n en tiempo y energ\\u00eda                   \",\"sea poca en comparaci\\u00f3n con los beneficios que              \",\"obtiene el colaborador el costo de combinar estas           \",\"descomposiciones de la tarea tambi\\u00e9n deben ser bajos        \"],\"z\":[[0.8218733197567107,0.8820130154220243,0.8214259244891418,0.629443208601449,0.5027228652476755,0.488672087229409,0.5231283016015332,0.5459557973390919],[0.524497391587256,0.4232517378683602,0.35492504924429036,0.48381335051573815,0.5540331257214989,0.520368131841736,0.6760805313474428,0.8141450099858707],[0.7371248722638535,0.5571375810668784,0.4113716508491565,0.3528553977583403,0.38775895066186217,0.32558535426283053,0.28891426895007066,0.35853578671963954],[0.4013992477971672,0.446696390345961,0.3570464907880666,0.2960482692488048,0.36482054777198153,0.4229269638713632,0.447617527234124,0.3004517897928145],[0.26064999432056085,0.3945911944235717,0.3743569555933614,0.21961039285633746,0.15651704938727043,0.1531639828777739,0.18323485531942446,0.2836959828662705],[0.35528418866673045,0.30534057923624025,0.21748346728367984,0.3010861033612109,0.4554680582798119,0.45021758152923774,0.36163404694108686,0.34644369257915214],[0.38528361505831393,0.29509599531855274,0.30067557128545397,0.3823038934971563,0.3004155639683782,0.32561233606813467,0.42488692175545406,0.32441391933216435],[0.2988223212073825,0.3487723847164479,0.2899379886432767,0.3554123634273343,0.47534563663249074,0.35828849900020554,0.16434062386781906,0.08306098369195414],[0.10019691016889473,0.2635187550427891,0.4742704085840028,0.49930104169973755,0.49572329823165995,0.5355580789792093,0.39514602513441927,0.2412616782436266],[0.24777334214952484,0.3172175868810618,0.3326190074319119,0.48475457230502295,0.6598198371979735,0.6692758583765296,0.5765549979378108,0.35135791296970004],[0.24742289156943464,0.4276859829407026,0.7112479841080763,0.7476658733457866,0.6193184169131803,0.5747467714025768,0.41196509126233105,0.21004641512185204],[0.2560777210421685,0.4860939525866269,0.622272058129594,0.6402382315111778,0.6090085590608603,0.4695959926216019,0.3745381420340899,0.4022393943301038],[0.37502113102137025,0.3623806537224698,0.37486484191647795,0.4160932993440884,0.4139971742981295,0.4436316361974419,0.43497643002960085,0.4230457875963137],[0.3251950503415263,0.19227314106822113,0.2596666202281056,0.40544405243687176,0.32279723899088464,0.1767416881952694,0.26267503797671493,0.41534817305468213],[0.32613715340648836,0.26447430939515204,0.34456108436466815,0.4204759617794127,0.5975998943051152,0.6520608408890092,0.45041381857535223,0.2639830659486238],[0.23243280084838114,0.276371367795946,0.4276610546204102,0.48464060379336255,0.3064315154296811,0.11206508775824726,0.08585817920188821,0.27601444908571504],[0.4856484121333603,0.41342750244806936,0.3280534732949953,0.38021874287456764,0.38614435678618536,0.3959178424342549,0.3767219379566435,0.3952292068912404],[0.42700496005291316,0.4568866457024098,0.41198183804057525,0.4909655459380685,0.5963669502699018,0.4974384641983599,0.3170146733318092,0.2728251177255805],[0.23209748137145778,0.16120715764929378,0.26835567599565574,0.46591139022204775,0.47676379626957305,0.3968677805314975,0.3497513730850316,0.3796873577844757],[0.4039284333888226,0.43971981760744017,0.4481330129372152,0.5191255398347915,0.5317098402788278,0.5095462855519479,0.5057456507918979,0.42771311126479494],[0.32605430285318104,0.3001203895283152,0.29068629654820083,0.3564351619224289,0.430470671020817,0.47560723330477284,0.4932275150463049,0.3902262971503099],[0.20601543315781842,0.17720033793807943,0.24960470401122245,0.22439366977813,0.2258122865960018,0.2578360264549934,0.29777666862233765,0.3672857590452754],[0.36219806702995816,0.4013825371745249,0.4206734126787734,0.32276242752596335,0.17908646454717744,0.1667372523483381,0.21745709825182166,0.17391350379279666],[0.21083146997999302,0.4056393207160854,0.5308625892773506,0.522036929503116,0.49854557710329894,0.4285435474118492,0.38082972974117424,0.42025028207093595],[0.3601582244789142,0.29727180244128276,0.3437954126328514,0.4771642373521899,0.5058199644500323,0.48401281094536497,0.41792040304767364,0.3421834062064584],[0.3837578522883302,0.4225907995027808,0.44845445532758216,0.5044947372307664,0.5135200651415216,0.3939727317329982,0.22641207454892553,0.3127129565211293],[0.5949326896025067,0.6331130304526256,0.546352888446511,0.6899627340383752,0.8066935462866123,0.6574519605878627,0.44068298027795827,0.3938236158722822],[0.39848854582969256,0.32014684958336864,0.24003958175858325,0.25504123598019846,0.310781239726928,0.3677865075491205,0.37209112545916057,0.4213011608081526],[0.42317259827946624,0.4101799673769946,0.3871623012799474,0.3678519552416227,0.38719227703283854,0.294112144828862,0.3081476163059108,0.41928534029512676],[0.36421222229343464,0.36469656685641827,0.4965662182297986,0.5003074725421399,0.37409042732073594,0.30662125768898907,0.3337551725923013,0.32969082667889427],[0.3213106754152037,0.24749842377890588,0.3038325055705586,0.43901744622397204,0.3487435451826209,0.31170960249295226,0.4193367500106758,0.38230706840699213],[0.2598500097971159,0.216853426022302,0.1884562376799982,0.24272236902784824,0.2991854363267423,0.2554084000531029,0.25073107185133153,0.32634478062140804],[0.426419397099913,0.3373180211890563,0.1989462768420695,0.22971909949015143,0.3958899930650671,0.6270396313780804,0.7737027420824667,0.7654218069421117],[0.6437989875207468,0.46641974374675405,0.4198460868880059,0.4151009511347114,0.46394872268254517,0.4730929560187452,0.358741844839616,0.2987476458699241],[0.28083411124569807,0.29455439675627554,0.3152516704972652,0.36942605022661756,0.3687067171549494,0.36914061378789687,0.371111747581105,0.3182886388235079],[0.2924168084137368,0.3121485385886367,0.24290879466495902,0.23257521758064797,0.2627339829405638,0.20226683869702064,0.2055854748101656,0.2805739346558054],[0.26982477674098587,0.29966097094430066,0.3677960046617389,0.28244187420453043,0.19590480403168622,0.1952349801194827,0.386385434638525,0.682462694173554],[0.6898547691876882,0.42186153791490033,0.21834074283345367,0.1444937626575912,0.25704260603150003,0.4845508755048669,0.6105390997295181,0.6995325364675831],[0.7852179531198684,0.7183245766861439,0.4426533634888017,0.1717743398093146,0.09964479743055502,0.2841231308872758,0.6055158687741995,0.7079755683520899],[0.4997601172687186,0.28084183771197213,0.23551630732889162,0.2233420295148563,0.27303189641854475,0.3916484949057586,0.40221847922731835,0.41397272309662037],[0.46679208725035815,0.42708862253125046,0.38684063675504965,0.4485428132357726,0.4440672404135416,0.41932543805557543,0.3578598107295383,0.3342154762881441],[0.4278816579921516,0.44362707814937163,0.32698133593728146,0.1998884233492022,0.3329266819893256,0.6988743464502567,0.9168691178737767,0.9520117853244229],[0.9465111612814741,0.8628218020289933,0.7005948158194051,0.5888077932646467,0.5003100801901726,0.4283058814305468,0.46085944044448235,0.44670778057582416],[0.4161808081372702,0.319347345690435,0.16416603750347736,0.10846543403175107,0.12201539749356048,0.087949384366994,0.09052192185239757,0.2721760183840356],[0.46267078484748336,0.3777645430550391,0.31356771777394443,0.42094368963112483,0.41355499243082317,0.2661476323804709,0.16502442444446122,0.20465959698894498],[0.3086173696681967,0.28948651729620406,0.2520960533647202,0.2586210900415971,0.20075011083896183,0.2781601109195155,0.5015839953771574,0.6121327351424986],[0.5243593937937455,0.2782747249493996,0.15594471065406493,0.2684542744039116,0.3811484749885354,0.26056099557593726,0.11866234636411442,0.18518511368595092],[0.41480829083309595,0.5902214352170392,0.5314824566117657,0.3030203435505446,0.20464503790308206,0.2525970485852358,0.23925731739783343,0.19323852183890297],[0.22586869855041974,0.31672216143685383,0.3021370624767422,0.2745766477067534,0.3438835932748663,0.3800169244499514,0.297224248451294,0.18860015585440779],[0.26431445668546355,0.42402074225671366,0.34214978163836357,0.1784036968121135,0.1419704933879671,0.19123527475270613,0.30277681378333143,0.3724230253738367],[0.40246808343619345,0.47008783300837265,0.44076532636262705,0.3408663377797103,0.33143896058803796,0.4093989083637344,0.4375883498970816,0.4521554433591523],[0.3410949019420939,0.3131439204062088,0.35475891981604296,0.23198325645823467,0.18747164790527507,0.2785363681138069,0.28216235946949164,0.30343762571838184],[0.3617757653596399,0.26640800279157695,0.2862586507924713,0.4188668860313166,0.3923285927377937,0.36202352215463407,0.3909035979900293,0.4376782881977037],[0.3112426198417336,0.14879044386318072,0.10730122561632685,0.1547165056025785,0.2728249877185927,0.3836436479691177,0.37611348179998794,0.48854537234550294],[0.668485742886431,0.653277891176764,0.5347812829043996,0.5307794522704188,0.4834533752711876,0.38848632431780267,0.22635290951851442,0.16556330913198108],[0.2905597092479121,0.4695006539886206,0.5421929598424672,0.45882851465737123,0.3375774815678423,0.314322554321883,0.4009159082330124,0.38341207314864234],[0.3526684785477509,0.42192316920412665,0.450298268641136,0.46380897419255973,0.3466330492073248,0.1576191584161936,0.12142543341854822,0.2589606632968853],[0.46506496816093623,0.5595767356514594,0.5156151780807183,0.531519667593266,0.5050465542876172,0.4763192037646531,0.3516854733613877,0.17291828552654004],[0.13479215687958013,0.1862757262992438,0.21536443472676484,0.25778146870085805,0.2675118539400196,0.22595603266703967,0.31363129675378687,0.509371040565336],[0.5509724558614311,0.3868856244542406,0.41687900662310595,0.5698284800142602,0.49324264954301067,0.3355837477887583,0.3283898386548896,0.3971300734082789],[0.3388896253659278,0.329173904565299,0.3407868938975428,0.3428847197806302,0.41303031212013464,0.3849026989100688,0.3424525710185353,0.3502527012057099],[0.2115730615646926,0.10072118292142902,0.1894970383913181,0.4094664843846091,0.5751099826207768,0.5294205713735294,0.3689749289421681,0.30000812069641175],[0.2640390339041494,0.2619944749993819,0.3078389275638069,0.3726972112431525,0.3178736562540474,0.3196909043223225,0.36633696026490414,0.2594440943267264],[0.2911466902296659,0.4591487460899327,0.48616745348661655,0.44944907503680587,0.3127742789327596,0.21091296127929327,0.20679503336398497,0.24385880728014278],[0.25737994572850925,0.28283599814642,0.31141934828084145,0.3323954581873474,0.22040980975293611,0.1324588217847534,0.19374023089834447,0.32085442167482653],[0.30499021812906874,0.19073618467567044,0.2730765915224936,0.4470177296806058,0.3773105482779872,0.30092956795850356,0.37781164375024573,0.4233739989628684],[0.4485900182609769,0.5046651235888051,0.517691235733835,0.4368862932194083,0.37674476402226664,0.39380716326547455,0.3390605481519119,0.38032595070843683],[0.44924089977910275,0.4289925959918517,0.4468742299387547,0.46223780474854415,0.46307157145202454,0.3231230827092901,0.3110429272587618,0.4344158319096727],[0.37127203094804756,0.27098730945913896,0.2852799754525363,0.30558099279954404,0.323875587640885,0.22967986468297263,0.10422367365257496,0.0935094114989467],[0.24853033482077555,0.4084854408691789,0.32876572905920903,0.19245436600019789,0.22469052987678753,0.284860475402719,0.19336380805539322,0.16969019838184207],[0.2725867129226059,0.28922849019252267,0.27086091288702424,0.340352336234431,0.3579622110992162,0.3083432499576011,0.33569510657214247,0.43811711263700753],[0.46632478741384975,0.5174866800517482,0.4224153247354151,0.22042139397295907,0.16043044427243042,0.2568697838905596,0.45969941418231297,0.6116754081212643],[0.5416374188497022,0.34775032263446876,0.2633105865558662,0.28238701736331306,0.3768980445975465,0.46201229609639305,0.4786863882973979,0.36041477237913555],[0.39859512794205654,0.5110873234794616,0.42844433625460454,0.32137578885057017,0.21883571851949246,0.23476439468599286,0.41437548424074766,0.5336640191359082],[0.4368844313269311,0.2758304563040339,0.27959968065738355,0.3429402024168554,0.28910090947650285,0.16709198496203145,0.16979074391003174,0.37444597164772353],[0.6552098815419634,0.6931266666500513,0.5530135113832544,0.5006207121976227,0.45059781679570315,0.436386939661371,0.4227519611997507,0.4382629832401313],[0.3831815355234393,0.32670432824701684,0.32687986955023535,0.5073428227559073,0.7320642647783324,0.7971381498330032,0.6875919845310329,0.5502349493053619],[0.5581613186443855,0.44606605379711906,0.3153677908259073,0.32184144353693533,0.2866968318760823,0.2772780063428849,0.26101931766387715,0.16719674442537708],[0.18309875971895032,0.32178399010697234,0.3319461239245236,0.21460245279822138,0.17370633022971546,0.1744632643233586,0.18999593354919106,0.22301844366096096],[0.21322880073984826,0.26303546949305256,0.388592997736709,0.43525688962243136,0.28571524168850587,0.3084222410313059,0.5895009343596298,0.7388784576131915],[0.6447370549063337,0.432589763959216,0.27163600044001146,0.23153788999492106,0.22179218122194244,0.3087829094959839,0.4102858399974305,0.42651192781851155],[0.40421991393743256,0.29050051757494977,0.18200194840575293,0.11476980791503125,0.17074060158318735,0.3421840655459888,0.4092146242760041,0.3952308743352139],[0.4082675489273303,0.31193751328604946,0.335304570087967,0.47756833125027043,0.44989207264700715,0.3199973071242251,0.2657480679889029,0.27077162688567535],[0.15254667800779953,0.03370092169105113,0.0027620446156739705,8.340296957610846e-05,0.0,0.0,0.0,0.0]],\"zmax\":1,\"zmin\":0,\"type\":\"heatmap\"}],                        {\"template\":{\"data\":{\"histogram2dcontour\":[{\"type\":\"histogram2dcontour\",\"colorbar\":{\"outlinewidth\":0,\"ticks\":\"\"},\"colorscale\":[[0.0,\"#0d0887\"],[0.1111111111111111,\"#46039f\"],[0.2222222222222222,\"#7201a8\"],[0.3333333333333333,\"#9c179e\"],[0.4444444444444444,\"#bd3786\"],[0.5555555555555556,\"#d8576b\"],[0.6666666666666666,\"#ed7953\"],[0.7777777777777778,\"#fb9f3a\"],[0.8888888888888888,\"#fdca26\"],[1.0,\"#f0f921\"]]}],\"choropleth\":[{\"type\":\"choropleth\",\"colorbar\":{\"outlinewidth\":0,\"ticks\":\"\"}}],\"histogram2d\":[{\"type\":\"histogram2d\",\"colorbar\":{\"outlinewidth\":0,\"ticks\":\"\"},\"colorscale\":[[0.0,\"#0d0887\"],[0.1111111111111111,\"#46039f\"],[0.2222222222222222,\"#7201a8\"],[0.3333333333333333,\"#9c179e\"],[0.4444444444444444,\"#bd3786\"],[0.5555555555555556,\"#d8576b\"],[0.6666666666666666,\"#ed7953\"],[0.7777777777777778,\"#fb9f3a\"],[0.8888888888888888,\"#fdca26\"],[1.0,\"#f0f921\"]]}],\"heatmap\":[{\"type\":\"heatmap\",\"colorbar\":{\"outlinewidth\":0,\"ticks\":\"\"},\"colorscale\":[[0.0,\"#0d0887\"],[0.1111111111111111,\"#46039f\"],[0.2222222222222222,\"#7201a8\"],[0.3333333333333333,\"#9c179e\"],[0.4444444444444444,\"#bd3786\"],[0.5555555555555556,\"#d8576b\"],[0.6666666666666666,\"#ed7953\"],[0.7777777777777778,\"#fb9f3a\"],[0.8888888888888888,\"#fdca26\"],[1.0,\"#f0f921\"]]}],\"heatmapgl\":[{\"type\":\"heatmapgl\",\"colorbar\":{\"outlinewidth\":0,\"ticks\":\"\"},\"colorscale\":[[0.0,\"#0d0887\"],[0.1111111111111111,\"#46039f\"],[0.2222222222222222,\"#7201a8\"],[0.3333333333333333,\"#9c179e\"],[0.4444444444444444,\"#bd3786\"],[0.5555555555555556,\"#d8576b\"],[0.6666666666666666,\"#ed7953\"],[0.7777777777777778,\"#fb9f3a\"],[0.8888888888888888,\"#fdca26\"],[1.0,\"#f0f921\"]]}],\"contourcarpet\":[{\"type\":\"contourcarpet\",\"colorbar\":{\"outlinewidth\":0,\"ticks\":\"\"}}],\"contour\":[{\"type\":\"contour\",\"colorbar\":{\"outlinewidth\":0,\"ticks\":\"\"},\"colorscale\":[[0.0,\"#0d0887\"],[0.1111111111111111,\"#46039f\"],[0.2222222222222222,\"#7201a8\"],[0.3333333333333333,\"#9c179e\"],[0.4444444444444444,\"#bd3786\"],[0.5555555555555556,\"#d8576b\"],[0.6666666666666666,\"#ed7953\"],[0.7777777777777778,\"#fb9f3a\"],[0.8888888888888888,\"#fdca26\"],[1.0,\"#f0f921\"]]}],\"surface\":[{\"type\":\"surface\",\"colorbar\":{\"outlinewidth\":0,\"ticks\":\"\"},\"colorscale\":[[0.0,\"#0d0887\"],[0.1111111111111111,\"#46039f\"],[0.2222222222222222,\"#7201a8\"],[0.3333333333333333,\"#9c179e\"],[0.4444444444444444,\"#bd3786\"],[0.5555555555555556,\"#d8576b\"],[0.6666666666666666,\"#ed7953\"],[0.7777777777777778,\"#fb9f3a\"],[0.8888888888888888,\"#fdca26\"],[1.0,\"#f0f921\"]]}],\"mesh3d\":[{\"type\":\"mesh3d\",\"colorbar\":{\"outlinewidth\":0,\"ticks\":\"\"}}],\"scatter\":[{\"fillpattern\":{\"fillmode\":\"overlay\",\"size\":10,\"solidity\":0.2},\"type\":\"scatter\"}],\"parcoords\":[{\"type\":\"parcoords\",\"line\":{\"colorbar\":{\"outlinewidth\":0,\"ticks\":\"\"}}}],\"scatterpolargl\":[{\"type\":\"scatterpolargl\",\"marker\":{\"colorbar\":{\"outlinewidth\":0,\"ticks\":\"\"}}}],\"bar\":[{\"error_x\":{\"color\":\"#2a3f5f\"},\"error_y\":{\"color\":\"#2a3f5f\"},\"marker\":{\"line\":{\"color\":\"#E5ECF6\",\"width\":0.5},\"pattern\":{\"fillmode\":\"overlay\",\"size\":10,\"solidity\":0.2}},\"type\":\"bar\"}],\"scattergeo\":[{\"type\":\"scattergeo\",\"marker\":{\"colorbar\":{\"outlinewidth\":0,\"ticks\":\"\"}}}],\"scatterpolar\":[{\"type\":\"scatterpolar\",\"marker\":{\"colorbar\":{\"outlinewidth\":0,\"ticks\":\"\"}}}],\"histogram\":[{\"marker\":{\"pattern\":{\"fillmode\":\"overlay\",\"size\":10,\"solidity\":0.2}},\"type\":\"histogram\"}],\"scattergl\":[{\"type\":\"scattergl\",\"marker\":{\"colorbar\":{\"outlinewidth\":0,\"ticks\":\"\"}}}],\"scatter3d\":[{\"type\":\"scatter3d\",\"line\":{\"colorbar\":{\"outlinewidth\":0,\"ticks\":\"\"}},\"marker\":{\"colorbar\":{\"outlinewidth\":0,\"ticks\":\"\"}}}],\"scattermapbox\":[{\"type\":\"scattermapbox\",\"marker\":{\"colorbar\":{\"outlinewidth\":0,\"ticks\":\"\"}}}],\"scatterternary\":[{\"type\":\"scatterternary\",\"marker\":{\"colorbar\":{\"outlinewidth\":0,\"ticks\":\"\"}}}],\"scattercarpet\":[{\"type\":\"scattercarpet\",\"marker\":{\"colorbar\":{\"outlinewidth\":0,\"ticks\":\"\"}}}],\"carpet\":[{\"aaxis\":{\"endlinecolor\":\"#2a3f5f\",\"gridcolor\":\"white\",\"linecolor\":\"white\",\"minorgridcolor\":\"white\",\"startlinecolor\":\"#2a3f5f\"},\"baxis\":{\"endlinecolor\":\"#2a3f5f\",\"gridcolor\":\"white\",\"linecolor\":\"white\",\"minorgridcolor\":\"white\",\"startlinecolor\":\"#2a3f5f\"},\"type\":\"carpet\"}],\"table\":[{\"cells\":{\"fill\":{\"color\":\"#EBF0F8\"},\"line\":{\"color\":\"white\"}},\"header\":{\"fill\":{\"color\":\"#C8D4E3\"},\"line\":{\"color\":\"white\"}},\"type\":\"table\"}],\"barpolar\":[{\"marker\":{\"line\":{\"color\":\"#E5ECF6\",\"width\":0.5},\"pattern\":{\"fillmode\":\"overlay\",\"size\":10,\"solidity\":0.2}},\"type\":\"barpolar\"}],\"pie\":[{\"automargin\":true,\"type\":\"pie\"}]},\"layout\":{\"autotypenumbers\":\"strict\",\"colorway\":[\"#636efa\",\"#EF553B\",\"#00cc96\",\"#ab63fa\",\"#FFA15A\",\"#19d3f3\",\"#FF6692\",\"#B6E880\",\"#FF97FF\",\"#FECB52\"],\"font\":{\"color\":\"#2a3f5f\"},\"hovermode\":\"closest\",\"hoverlabel\":{\"align\":\"left\"},\"paper_bgcolor\":\"white\",\"plot_bgcolor\":\"#E5ECF6\",\"polar\":{\"bgcolor\":\"#E5ECF6\",\"angularaxis\":{\"gridcolor\":\"white\",\"linecolor\":\"white\",\"ticks\":\"\"},\"radialaxis\":{\"gridcolor\":\"white\",\"linecolor\":\"white\",\"ticks\":\"\"}},\"ternary\":{\"bgcolor\":\"#E5ECF6\",\"aaxis\":{\"gridcolor\":\"white\",\"linecolor\":\"white\",\"ticks\":\"\"},\"baxis\":{\"gridcolor\":\"white\",\"linecolor\":\"white\",\"ticks\":\"\"},\"caxis\":{\"gridcolor\":\"white\",\"linecolor\":\"white\",\"ticks\":\"\"}},\"coloraxis\":{\"colorbar\":{\"outlinewidth\":0,\"ticks\":\"\"}},\"colorscale\":{\"sequential\":[[0.0,\"#0d0887\"],[0.1111111111111111,\"#46039f\"],[0.2222222222222222,\"#7201a8\"],[0.3333333333333333,\"#9c179e\"],[0.4444444444444444,\"#bd3786\"],[0.5555555555555556,\"#d8576b\"],[0.6666666666666666,\"#ed7953\"],[0.7777777777777778,\"#fb9f3a\"],[0.8888888888888888,\"#fdca26\"],[1.0,\"#f0f921\"]],\"sequentialminus\":[[0.0,\"#0d0887\"],[0.1111111111111111,\"#46039f\"],[0.2222222222222222,\"#7201a8\"],[0.3333333333333333,\"#9c179e\"],[0.4444444444444444,\"#bd3786\"],[0.5555555555555556,\"#d8576b\"],[0.6666666666666666,\"#ed7953\"],[0.7777777777777778,\"#fb9f3a\"],[0.8888888888888888,\"#fdca26\"],[1.0,\"#f0f921\"]],\"diverging\":[[0,\"#8e0152\"],[0.1,\"#c51b7d\"],[0.2,\"#de77ae\"],[0.3,\"#f1b6da\"],[0.4,\"#fde0ef\"],[0.5,\"#f7f7f7\"],[0.6,\"#e6f5d0\"],[0.7,\"#b8e186\"],[0.8,\"#7fbc41\"],[0.9,\"#4d9221\"],[1,\"#276419\"]]},\"xaxis\":{\"gridcolor\":\"white\",\"linecolor\":\"white\",\"ticks\":\"\",\"title\":{\"standoff\":15},\"zerolinecolor\":\"white\",\"automargin\":true,\"zerolinewidth\":2},\"yaxis\":{\"gridcolor\":\"white\",\"linecolor\":\"white\",\"ticks\":\"\",\"title\":{\"standoff\":15},\"zerolinecolor\":\"white\",\"automargin\":true,\"zerolinewidth\":2},\"scene\":{\"xaxis\":{\"backgroundcolor\":\"#E5ECF6\",\"gridcolor\":\"white\",\"linecolor\":\"white\",\"showbackground\":true,\"ticks\":\"\",\"zerolinecolor\":\"white\",\"gridwidth\":2},\"yaxis\":{\"backgroundcolor\":\"#E5ECF6\",\"gridcolor\":\"white\",\"linecolor\":\"white\",\"showbackground\":true,\"ticks\":\"\",\"zerolinecolor\":\"white\",\"gridwidth\":2},\"zaxis\":{\"backgroundcolor\":\"#E5ECF6\",\"gridcolor\":\"white\",\"linecolor\":\"white\",\"showbackground\":true,\"ticks\":\"\",\"zerolinecolor\":\"white\",\"gridwidth\":2}},\"shapedefaults\":{\"line\":{\"color\":\"#2a3f5f\"}},\"annotationdefaults\":{\"arrowcolor\":\"#2a3f5f\",\"arrowhead\":0,\"arrowwidth\":1},\"geo\":{\"bgcolor\":\"white\",\"landcolor\":\"#E5ECF6\",\"subunitcolor\":\"white\",\"showland\":true,\"showlakes\":true,\"lakecolor\":\"white\"},\"title\":{\"x\":0.05},\"mapbox\":{\"style\":\"light\"}}},\"font\":{\"family\":\"Courier New\"},\"height\":2352,\"width\":1000,\"yaxis\":{\"autorange\":\"reversed\"}},                        {\"responsive\": true}                    ).then(function(){\n",
       "                            \n",
       "var gd = document.getElementById('08ca1f0d-4f6a-4bec-a4cc-599c840d0733');\n",
       "var x = new MutationObserver(function (mutations, observer) {{\n",
       "        var display = window.getComputedStyle(gd).display;\n",
       "        if (!display || display === 'none') {{\n",
       "            console.log([gd, 'removed!']);\n",
       "            Plotly.purge(gd);\n",
       "            observer.disconnect();\n",
       "        }}\n",
       "}});\n",
       "\n",
       "// Listen for the removal of the full notebook cells\n",
       "var notebookContainer = gd.closest('#notebook-container');\n",
       "if (notebookContainer) {{\n",
       "    x.observe(notebookContainer, {childList: true});\n",
       "}}\n",
       "\n",
       "// Listen for the clearing of the current output cell\n",
       "var outputEl = gd.closest('.output');\n",
       "if (outputEl) {{\n",
       "    x.observe(outputEl, {childList: true});\n",
       "}}\n",
       "\n",
       "                        })                };                });            </script>        </div>"
      ]
     },
     "metadata": {},
     "output_type": "display_data"
    }
   ],
   "source": [
    "extension_text = os.path.splitext(name_of_test_file)[1][1:]\n",
    "\n",
    "\n",
    "if extension_text == \"pdf\":\n",
    "    \n",
    "    # Read testing data\n",
    "    testing_text = read_pdf(testing_path_name)\n",
    "\n",
    "    # Tokenize and pad the text\n",
    "    testing_data =  tokenize(testing_text)\n",
    "    \n",
    "    scores_np = assign_scores(testing_data, model)\n",
    " \n",
    "    height = np.ceil(len(testing_data)/width).astype(\"int32\")\n",
    "    \n",
    "    print(\"Testing file name:\")\n",
    "    print(name_of_test_file)\n",
    "    \n",
    "    # copy scores to rectangular blank array\n",
    "    a = np.zeros(width*height)\n",
    "   \n",
    "    a[:len(scores_np)] = scores_np\n",
    "    diff = len(a) - len(scores_np)\n",
    "\n",
    "    # apply gaussian smoothing for aesthetics\n",
    "    a = gaussian_filter(a, sigma=1.0)\n",
    "\n",
    "    # reshape to fit rectangle\n",
    "    a = a.reshape(-1, width)\n",
    "\n",
    "    # format labels\n",
    "    labels = [\" \".join(testing_data[i:i+width]) for i in range(n-1, len(testing_data), width)]\n",
    "    labels_individual = [x.split() for x in labels]\n",
    "    labels_individual[-1] += [\"\"]*diff\n",
    "    labels = [f\"{x:60.60}\" for x in labels]\n",
    "\n",
    "    # create heatmap\n",
    "    fig = go.Figure(data=go.Heatmap(\n",
    "                    z=a, x0=0, dx=1,\n",
    "                    y=labels, zmin=0, zmax=1,\n",
    "                    customdata=labels_individual,\n",
    "                    hovertemplate='%{customdata} <br><b>Score:%{z:.3f}<extra></extra>',\n",
    "                    colorscale=\"burg\"))\n",
    "    fig.update_layout({\"height\":height*28, \"width\":1000, \"font\":{\"family\":\"Courier New\"}})\n",
    "    fig['layout']['yaxis']['autorange'] = \"reversed\"\n",
    "    fig.show()\n",
    "   \n",
    "    \n",
    "elif extension_text == \"docx\":\n",
    "    \n",
    "    print(\"Testing file name:\")\n",
    "    print(name_of_test_file)\n",
    "    \n",
    "    # Read testing data\n",
    "    testing_text = read_docx(testing_path_name)\n",
    "    \n",
    "    # Tokenize and pad the text\n",
    "    testing_data =  tokenize(testing_text)\n",
    "\n",
    "    scores_np = assign_scores(testing_data, model)\n",
    "  \n",
    "    \n",
    "    height = np.ceil(len(testing_data)/width).astype(\"int32\")\n",
    "    \n",
    "    \n",
    "    # copy scores to rectangular blank array\n",
    "    a = np.zeros(width*height)\n",
    " \n",
    "    a[:len(scores_np)] = scores_np\n",
    "    diff = len(a) - len(scores_np)\n",
    "\n",
    "    # apply gaussian smoothing for aesthetics\n",
    "    a = gaussian_filter(a, sigma=1.0)\n",
    "\n",
    "    # reshape to fit rectangle\n",
    "    a = a.reshape(-1, width)\n",
    "\n",
    "    # format labels\n",
    "    labels = [\" \".join(testing_data[i:i+width]) for i in range(n-1, len(testing_data), width)]\n",
    "    labels_individual = [x.split() for x in labels]\n",
    "    labels_individual[-1] += [\"\"]*diff\n",
    "    labels = [f\"{x:60.60}\" for x in labels]\n",
    "\n",
    "    # create heatmap\n",
    "    fig = go.Figure(data=go.Heatmap(\n",
    "                    z=a, x0=0, dx=1,\n",
    "                    y=labels, zmin=0, zmax=1,\n",
    "                    customdata=labels_individual,\n",
    "                    hovertemplate='%{customdata} <br><b>Score:%{z:.3f}<extra></extra>',\n",
    "                    colorscale=\"burg\"))\n",
    "    fig.update_layout({\"height\":height*28, \"width\":1000, \"font\":{\"family\":\"Courier New\"}})\n",
    "    fig['layout']['yaxis']['autorange'] = \"reversed\"\n",
    "    fig.show() \n",
    " \n",
    "    \n",
    "elif extension_text == \"doc\":\n",
    "     \n",
    "    print(\"Testing file name:\")\n",
    "    \n",
    "    print(name_of_test_file)\n",
    "    \n",
    "    # Read testing data\n",
    "    testing_text = read_docx(testing_path_name)\n",
    "    \n",
    "    # Tokenize and pad the text\n",
    "    testing_data =  tokenize(testing_text)\n",
    "\n",
    "    scores_np = assign_scores(testing_data, model)\n",
    "     \n",
    "    height = np.ceil(len(testing_data)/width).astype(\"int32\")\n",
    "   \n",
    "    # copy scores to rectangular blank array\n",
    "    a = np.zeros(width*height)\n",
    "  \n",
    "    a[:len(scores_np)] = scores_np\n",
    "    diff = len(a) - len(scores_np)\n",
    "\n",
    "    # apply gaussian smoothing for aesthetics\n",
    "    a = gaussian_filter(a, sigma=1.0)\n",
    "\n",
    "    # reshape to fit rectangle\n",
    "    a = a.reshape(-1, width)\n",
    "\n",
    "    # format labels\n",
    "    labels = [\" \".join(testing_data[i:i+width]) for i in range(n-1, len(testing_data), width)]\n",
    "    labels_individual = [x.split() for x in labels]\n",
    "    labels_individual[-1] += [\"\"]*diff\n",
    "    labels = [f\"{x:60.60}\" for x in labels]\n",
    "\n",
    "    # create heatmap\n",
    "    fig = go.Figure(data=go.Heatmap(\n",
    "                    z=a, x0=0, dx=1,\n",
    "                    y=labels, zmin=0, zmax=1,\n",
    "                    customdata=labels_individual,\n",
    "                    hovertemplate='%{customdata} <br><b>Score:%{z:.3f}<extra></extra>',\n",
    "                    colorscale=\"burg\"))\n",
    "    fig.update_layout({\"height\":height*28, \"width\":1000, \"font\":{\"family\":\"Courier New\"}})\n",
    "    fig['layout']['yaxis']['autorange'] = \"reversed\"\n",
    "    fig.show() \n",
    "else: \n",
    "    print(\"Error\")"
   ]
  },
  {
   "cell_type": "code",
   "execution_count": 150,
   "id": "12698c6a-1dd0-4b35-9d37-80e620094106",
   "metadata": {},
   "outputs": [
    {
     "ename": "ModuleNotFoundError",
     "evalue": "No module named 'pdftotext'",
     "output_type": "error",
     "traceback": [
      "\u001b[1;31m---------------------------------------------------------------------------\u001b[0m",
      "\u001b[1;31mModuleNotFoundError\u001b[0m                       Traceback (most recent call last)",
      "Input \u001b[1;32mIn [150]\u001b[0m, in \u001b[0;36m<cell line: 1>\u001b[1;34m()\u001b[0m\n\u001b[1;32m----> 1\u001b[0m \u001b[38;5;28;01mimport\u001b[39;00m \u001b[38;5;21;01mpdftotext\u001b[39;00m\n\u001b[0;32m      2\u001b[0m \u001b[38;5;28;01mfrom\u001b[39;00m \u001b[38;5;21;01murllib\u001b[39;00m\u001b[38;5;21;01m.\u001b[39;00m\u001b[38;5;21;01mrequest\u001b[39;00m \u001b[38;5;28;01mimport\u001b[39;00m urlopen\n\u001b[0;32m      4\u001b[0m target_url \u001b[38;5;241m=\u001b[39m \u001b[38;5;124m\"\u001b[39m\u001b[38;5;124mhttps://www.colibri.udelar.edu.uy/jspui/bitstream/20.500.12008/23309/1/TCP_GuerreroAlvaro.pdf\u001b[39m\u001b[38;5;124m\"\u001b[39m \u001b[38;5;66;03m#  to change.\u001b[39;00m\n",
      "\u001b[1;31mModuleNotFoundError\u001b[0m: No module named 'pdftotext'"
     ]
    }
   ],
   "source": [
    "import pdftotext\n",
    "from urllib.request import urlopen\n",
    "\n",
    "target_url = \"https://www.colibri.udelar.edu.uy/jspui/bitstream/20.500.12008/23309/1/TCP_GuerreroAlvaro.pdf\" #  to change.\n",
    "file = urlopen(target_url)\n",
    "\n",
    "pdf = pdftotext.PDF(file) # add password if password protected.\n",
    "\n",
    "# How many pages?\n",
    "print(len(pdf))\n",
    "\n",
    "# Iterate over all the pages\n",
    "for page in pdf:\n",
    "    print(page)\n",
    "\n",
    "# Read some individual pages\n",
    "print(pdf[0])\n",
    "print(pdf[1])\n",
    "\n",
    "# Read all the text into one string\n",
    "print(\"\\n\\n\".join(pdf))"
   ]
  },
  {
   "cell_type": "code",
   "execution_count": null,
   "id": "7ce9b86e-9403-4aa4-8ceb-c6ee4185205e",
   "metadata": {},
   "outputs": [],
   "source": []
  },
  {
   "cell_type": "code",
   "execution_count": null,
   "id": "e0c8f8f7-5659-4da4-8460-810e59c6782e",
   "metadata": {},
   "outputs": [],
   "source": []
  }
 ],
 "metadata": {
  "kernelspec": {
   "display_name": "Python 3 (ipykernel)",
   "language": "python",
   "name": "python3"
  },
  "language_info": {
   "codemirror_mode": {
    "name": "ipython",
    "version": 3
   },
   "file_extension": ".py",
   "mimetype": "text/x-python",
   "name": "python",
   "nbconvert_exporter": "python",
   "pygments_lexer": "ipython3",
   "version": "3.9.12"
  }
 },
 "nbformat": 4,
 "nbformat_minor": 5
}
